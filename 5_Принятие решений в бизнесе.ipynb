{
 "cells": [
  {
   "cell_type": "markdown",
   "metadata": {},
   "source": [
    "# Приоритизация гипотез и анализ A/B-теста"
   ]
  },
  {
   "cell_type": "markdown",
   "metadata": {},
   "source": [
    "Целью данного проекта является анализ гипотез, подготовленных аналитиками и отделом маркетинга для увеличения выручки крупного интернет-магазина. Чтобы максимизировать ожидаемое улучшение ключевых метрик бизнеса (в данном случае выручку), сформулированные гипотезы необходимо приоритизировать, а также провести A/B-тест, чтобы точно измерить эффект от внедрения изменения. \n",
    "\n",
    "Полученные результаты приоритезации и A/B-теста необходимо будет также проанализировать и интерпретировать.\n",
    "\n",
    "Для приоритезации в нашем ряспоряжении имеется файл `/datasets/hypothesis.csv` со следующими данными:\n",
    "\n",
    "`Hypothesis` — краткое описание гипотезы;\n",
    "`Reach` — охват пользователей по 10-балльной шкале;\n",
    "`Impact` — влияние на пользователей по 10-балльной шкале;\n",
    "`Confidence` — уверенность в гипотезе по 10-балльной шкале;\n",
    "`Efforts` — затраты ресурсов на проверку гипотезы по 10-балльной шкале. Чем больше значение Efforts, тем дороже проверка гипотезы.\n",
    "\n",
    "Для проведения A/B-теста будем использовать файлы `/datasets/orders.csv` со следующими данными:\n",
    "`transactionId` — идентификатор заказа;\n",
    "`visitorId` — идентификатор пользователя, совершившего заказ;\n",
    "`date` — дата, когда был совершён заказ;\n",
    "`revenue` — выручка заказа;\n",
    "`group` — группа A/B-теста, в которую попал заказ;\n",
    "\n",
    "а также `/datasets/visitors.csv` с данными:\n",
    "`date` — дата;\n",
    "`group` — группа A/B-теста;\n",
    "`visitors` — количество пользователей в указанную дату в указанной группе A/B-теста.\n",
    "\n",
    "На первом этапе работы ознакомимся с датасетами и выполним предобработку, если она понадобится.\n",
    "Затем осуществим приоритезацию гипотез и проведем А/В тест."
   ]
  },
  {
   "cell_type": "markdown",
   "metadata": {},
   "source": [
    "**Шаг 1. Загрузка и предобработка данных**"
   ]
  },
  {
   "cell_type": "markdown",
   "metadata": {},
   "source": [
    "Импортируем библиотеки, которые могут понадобиться нам в ходе работы."
   ]
  },
  {
   "cell_type": "code",
   "execution_count": 1,
   "metadata": {},
   "outputs": [],
   "source": [
    "import pandas as pd\n",
    "import numpy as np\n",
    "import matplotlib.pyplot as plt \n",
    "from datetime import datetime\n",
    "import calendar\n",
    "import seaborn as sns\n",
    "from scipy import stats as stats\n",
    "from math import sqrt\n",
    "from importlib import reload\n",
    "from datetime import datetime, timedelta"
   ]
  },
  {
   "cell_type": "markdown",
   "metadata": {},
   "source": [
    "Загрузим и ознакомимся с 3 предоставленными файлами"
   ]
  },
  {
   "cell_type": "code",
   "execution_count": 2,
   "metadata": {},
   "outputs": [],
   "source": [
    "hypothesis=pd.read_csv('/datasets/hypothesis.csv')\n",
    "orders=pd.read_csv('/datasets/orders.csv')\n",
    "visits=pd.read_csv('/datasets/visitors.csv')"
   ]
  },
  {
   "cell_type": "code",
   "execution_count": 3,
   "metadata": {},
   "outputs": [
    {
     "name": "stdout",
     "output_type": "stream",
     "text": [
      "<class 'pandas.core.frame.DataFrame'>\n",
      "RangeIndex: 9 entries, 0 to 8\n",
      "Data columns (total 5 columns):\n",
      " #   Column      Non-Null Count  Dtype \n",
      "---  ------      --------------  ----- \n",
      " 0   Hypothesis  9 non-null      object\n",
      " 1   Reach       9 non-null      int64 \n",
      " 2   Impact      9 non-null      int64 \n",
      " 3   Confidence  9 non-null      int64 \n",
      " 4   Efforts     9 non-null      int64 \n",
      "dtypes: int64(4), object(1)\n",
      "memory usage: 488.0+ bytes\n",
      "<class 'pandas.core.frame.DataFrame'>\n",
      "RangeIndex: 1197 entries, 0 to 1196\n",
      "Data columns (total 5 columns):\n",
      " #   Column         Non-Null Count  Dtype \n",
      "---  ------         --------------  ----- \n",
      " 0   transactionId  1197 non-null   int64 \n",
      " 1   visitorId      1197 non-null   int64 \n",
      " 2   date           1197 non-null   object\n",
      " 3   revenue        1197 non-null   int64 \n",
      " 4   group          1197 non-null   object\n",
      "dtypes: int64(3), object(2)\n",
      "memory usage: 46.9+ KB\n",
      "<class 'pandas.core.frame.DataFrame'>\n",
      "RangeIndex: 62 entries, 0 to 61\n",
      "Data columns (total 3 columns):\n",
      " #   Column    Non-Null Count  Dtype \n",
      "---  ------    --------------  ----- \n",
      " 0   date      62 non-null     object\n",
      " 1   group     62 non-null     object\n",
      " 2   visitors  62 non-null     int64 \n",
      "dtypes: int64(1), object(2)\n",
      "memory usage: 1.6+ KB\n"
     ]
    }
   ],
   "source": [
    "# Выведем общую информацию о 3 датасетах:\n",
    "hypothesis.info()\n",
    "orders.info()\n",
    "visits.info()"
   ]
  },
  {
   "cell_type": "code",
   "execution_count": 4,
   "metadata": {},
   "outputs": [
    {
     "data": {
      "text/html": [
       "<div>\n",
       "<style scoped>\n",
       "    .dataframe tbody tr th:only-of-type {\n",
       "        vertical-align: middle;\n",
       "    }\n",
       "\n",
       "    .dataframe tbody tr th {\n",
       "        vertical-align: top;\n",
       "    }\n",
       "\n",
       "    .dataframe thead th {\n",
       "        text-align: right;\n",
       "    }\n",
       "</style>\n",
       "<table border=\"1\" class=\"dataframe\">\n",
       "  <thead>\n",
       "    <tr style=\"text-align: right;\">\n",
       "      <th></th>\n",
       "      <th>Hypothesis</th>\n",
       "      <th>Reach</th>\n",
       "      <th>Impact</th>\n",
       "      <th>Confidence</th>\n",
       "      <th>Efforts</th>\n",
       "    </tr>\n",
       "  </thead>\n",
       "  <tbody>\n",
       "    <tr>\n",
       "      <th>0</th>\n",
       "      <td>Добавить два новых канала привлечения трафика,...</td>\n",
       "      <td>3</td>\n",
       "      <td>10</td>\n",
       "      <td>8</td>\n",
       "      <td>6</td>\n",
       "    </tr>\n",
       "    <tr>\n",
       "      <th>1</th>\n",
       "      <td>Запустить собственную службу доставки, что сок...</td>\n",
       "      <td>2</td>\n",
       "      <td>5</td>\n",
       "      <td>4</td>\n",
       "      <td>10</td>\n",
       "    </tr>\n",
       "    <tr>\n",
       "      <th>2</th>\n",
       "      <td>Добавить блоки рекомендаций товаров на сайт ин...</td>\n",
       "      <td>8</td>\n",
       "      <td>3</td>\n",
       "      <td>7</td>\n",
       "      <td>3</td>\n",
       "    </tr>\n",
       "    <tr>\n",
       "      <th>3</th>\n",
       "      <td>Изменить структура категорий, что увеличит кон...</td>\n",
       "      <td>8</td>\n",
       "      <td>3</td>\n",
       "      <td>3</td>\n",
       "      <td>8</td>\n",
       "    </tr>\n",
       "    <tr>\n",
       "      <th>4</th>\n",
       "      <td>Изменить цвет фона главной страницы, чтобы уве...</td>\n",
       "      <td>3</td>\n",
       "      <td>1</td>\n",
       "      <td>1</td>\n",
       "      <td>1</td>\n",
       "    </tr>\n",
       "  </tbody>\n",
       "</table>\n",
       "</div>"
      ],
      "text/plain": [
       "                                          Hypothesis  Reach  Impact  \\\n",
       "0  Добавить два новых канала привлечения трафика,...      3      10   \n",
       "1  Запустить собственную службу доставки, что сок...      2       5   \n",
       "2  Добавить блоки рекомендаций товаров на сайт ин...      8       3   \n",
       "3  Изменить структура категорий, что увеличит кон...      8       3   \n",
       "4  Изменить цвет фона главной страницы, чтобы уве...      3       1   \n",
       "\n",
       "   Confidence  Efforts  \n",
       "0           8        6  \n",
       "1           4       10  \n",
       "2           7        3  \n",
       "3           3        8  \n",
       "4           1        1  "
      ]
     },
     "metadata": {},
     "output_type": "display_data"
    },
    {
     "data": {
      "text/html": [
       "<div>\n",
       "<style scoped>\n",
       "    .dataframe tbody tr th:only-of-type {\n",
       "        vertical-align: middle;\n",
       "    }\n",
       "\n",
       "    .dataframe tbody tr th {\n",
       "        vertical-align: top;\n",
       "    }\n",
       "\n",
       "    .dataframe thead th {\n",
       "        text-align: right;\n",
       "    }\n",
       "</style>\n",
       "<table border=\"1\" class=\"dataframe\">\n",
       "  <thead>\n",
       "    <tr style=\"text-align: right;\">\n",
       "      <th></th>\n",
       "      <th>transactionId</th>\n",
       "      <th>visitorId</th>\n",
       "      <th>date</th>\n",
       "      <th>revenue</th>\n",
       "      <th>group</th>\n",
       "    </tr>\n",
       "  </thead>\n",
       "  <tbody>\n",
       "    <tr>\n",
       "      <th>0</th>\n",
       "      <td>3667963787</td>\n",
       "      <td>3312258926</td>\n",
       "      <td>2019-08-15</td>\n",
       "      <td>1650</td>\n",
       "      <td>B</td>\n",
       "    </tr>\n",
       "    <tr>\n",
       "      <th>1</th>\n",
       "      <td>2804400009</td>\n",
       "      <td>3642806036</td>\n",
       "      <td>2019-08-15</td>\n",
       "      <td>730</td>\n",
       "      <td>B</td>\n",
       "    </tr>\n",
       "    <tr>\n",
       "      <th>2</th>\n",
       "      <td>2961555356</td>\n",
       "      <td>4069496402</td>\n",
       "      <td>2019-08-15</td>\n",
       "      <td>400</td>\n",
       "      <td>A</td>\n",
       "    </tr>\n",
       "    <tr>\n",
       "      <th>3</th>\n",
       "      <td>3797467345</td>\n",
       "      <td>1196621759</td>\n",
       "      <td>2019-08-15</td>\n",
       "      <td>9759</td>\n",
       "      <td>B</td>\n",
       "    </tr>\n",
       "    <tr>\n",
       "      <th>4</th>\n",
       "      <td>2282983706</td>\n",
       "      <td>2322279887</td>\n",
       "      <td>2019-08-15</td>\n",
       "      <td>2308</td>\n",
       "      <td>B</td>\n",
       "    </tr>\n",
       "  </tbody>\n",
       "</table>\n",
       "</div>"
      ],
      "text/plain": [
       "   transactionId   visitorId        date  revenue group\n",
       "0     3667963787  3312258926  2019-08-15     1650     B\n",
       "1     2804400009  3642806036  2019-08-15      730     B\n",
       "2     2961555356  4069496402  2019-08-15      400     A\n",
       "3     3797467345  1196621759  2019-08-15     9759     B\n",
       "4     2282983706  2322279887  2019-08-15     2308     B"
      ]
     },
     "metadata": {},
     "output_type": "display_data"
    },
    {
     "data": {
      "text/html": [
       "<div>\n",
       "<style scoped>\n",
       "    .dataframe tbody tr th:only-of-type {\n",
       "        vertical-align: middle;\n",
       "    }\n",
       "\n",
       "    .dataframe tbody tr th {\n",
       "        vertical-align: top;\n",
       "    }\n",
       "\n",
       "    .dataframe thead th {\n",
       "        text-align: right;\n",
       "    }\n",
       "</style>\n",
       "<table border=\"1\" class=\"dataframe\">\n",
       "  <thead>\n",
       "    <tr style=\"text-align: right;\">\n",
       "      <th></th>\n",
       "      <th>date</th>\n",
       "      <th>group</th>\n",
       "      <th>visitors</th>\n",
       "    </tr>\n",
       "  </thead>\n",
       "  <tbody>\n",
       "    <tr>\n",
       "      <th>0</th>\n",
       "      <td>2019-08-01</td>\n",
       "      <td>A</td>\n",
       "      <td>719</td>\n",
       "    </tr>\n",
       "    <tr>\n",
       "      <th>1</th>\n",
       "      <td>2019-08-02</td>\n",
       "      <td>A</td>\n",
       "      <td>619</td>\n",
       "    </tr>\n",
       "    <tr>\n",
       "      <th>2</th>\n",
       "      <td>2019-08-03</td>\n",
       "      <td>A</td>\n",
       "      <td>507</td>\n",
       "    </tr>\n",
       "    <tr>\n",
       "      <th>3</th>\n",
       "      <td>2019-08-04</td>\n",
       "      <td>A</td>\n",
       "      <td>717</td>\n",
       "    </tr>\n",
       "    <tr>\n",
       "      <th>4</th>\n",
       "      <td>2019-08-05</td>\n",
       "      <td>A</td>\n",
       "      <td>756</td>\n",
       "    </tr>\n",
       "  </tbody>\n",
       "</table>\n",
       "</div>"
      ],
      "text/plain": [
       "         date group  visitors\n",
       "0  2019-08-01     A       719\n",
       "1  2019-08-02     A       619\n",
       "2  2019-08-03     A       507\n",
       "3  2019-08-04     A       717\n",
       "4  2019-08-05     A       756"
      ]
     },
     "metadata": {},
     "output_type": "display_data"
    }
   ],
   "source": [
    "# Для ознакомления также просмотрим первые 5 строчек наших данных:\n",
    "display(hypothesis.head())\n",
    "display(orders.head())\n",
    "display(visits.head())"
   ]
  },
  {
   "cell_type": "markdown",
   "metadata": {},
   "source": [
    "Из общей информации видно, что столбцы `date` в данных о заказах и визитах имеют неправильный формат. Это необходимо исправить, преобразовав столбцы в формат `datetime`."
   ]
  },
  {
   "cell_type": "code",
   "execution_count": 5,
   "metadata": {},
   "outputs": [
    {
     "name": "stdout",
     "output_type": "stream",
     "text": [
      "<class 'pandas.core.frame.DataFrame'>\n",
      "RangeIndex: 1197 entries, 0 to 1196\n",
      "Data columns (total 5 columns):\n",
      " #   Column         Non-Null Count  Dtype         \n",
      "---  ------         --------------  -----         \n",
      " 0   transactionId  1197 non-null   int64         \n",
      " 1   visitorId      1197 non-null   int64         \n",
      " 2   date           1197 non-null   datetime64[ns]\n",
      " 3   revenue        1197 non-null   int64         \n",
      " 4   group          1197 non-null   object        \n",
      "dtypes: datetime64[ns](1), int64(3), object(1)\n",
      "memory usage: 46.9+ KB\n",
      "<class 'pandas.core.frame.DataFrame'>\n",
      "RangeIndex: 62 entries, 0 to 61\n",
      "Data columns (total 3 columns):\n",
      " #   Column    Non-Null Count  Dtype         \n",
      "---  ------    --------------  -----         \n",
      " 0   date      62 non-null     datetime64[ns]\n",
      " 1   group     62 non-null     object        \n",
      " 2   visitors  62 non-null     int64         \n",
      "dtypes: datetime64[ns](1), int64(1), object(1)\n",
      "memory usage: 1.6+ KB\n"
     ]
    }
   ],
   "source": [
    "orders['date'] = pd.to_datetime(orders['date'])\n",
    "visits['date'] = pd.to_datetime(visits['date'])\n",
    "\n",
    "#С помощью метода info() убедимся, что формат изменен:\n",
    "orders.info()\n",
    "visits.info()"
   ]
  },
  {
   "cell_type": "code",
   "execution_count": 6,
   "metadata": {},
   "outputs": [
    {
     "data": {
      "text/plain": [
       "Hypothesis    0\n",
       "Reach         0\n",
       "Impact        0\n",
       "Confidence    0\n",
       "Efforts       0\n",
       "dtype: int64"
      ]
     },
     "metadata": {},
     "output_type": "display_data"
    },
    {
     "data": {
      "text/plain": [
       "transactionId    0\n",
       "visitorId        0\n",
       "date             0\n",
       "revenue          0\n",
       "group            0\n",
       "dtype: int64"
      ]
     },
     "metadata": {},
     "output_type": "display_data"
    },
    {
     "data": {
      "text/plain": [
       "date        0\n",
       "group       0\n",
       "visitors    0\n",
       "dtype: int64"
      ]
     },
     "metadata": {},
     "output_type": "display_data"
    }
   ],
   "source": [
    "# Проверим наличие пропусков в каждом столбце:\n",
    "display(hypothesis.isna().sum())\n",
    "display(orders.isna().sum())\n",
    "display(visits.isna().sum())\n",
    "# Пропуски отсутствуют"
   ]
  },
  {
   "cell_type": "code",
   "execution_count": 7,
   "metadata": {},
   "outputs": [
    {
     "data": {
      "text/plain": [
       "0"
      ]
     },
     "metadata": {},
     "output_type": "display_data"
    },
    {
     "data": {
      "text/plain": [
       "0"
      ]
     },
     "metadata": {},
     "output_type": "display_data"
    },
    {
     "data": {
      "text/plain": [
       "0"
      ]
     },
     "metadata": {},
     "output_type": "display_data"
    }
   ],
   "source": [
    "# Проверим наличие явных дубликатов:\n",
    "display(hypothesis.duplicated().sum())\n",
    "display(orders.duplicated().sum())\n",
    "display(visits.duplicated().sum())\n",
    "# Полностью повторяющиеся строки отсутствуют"
   ]
  },
  {
   "cell_type": "code",
   "execution_count": 8,
   "metadata": {},
   "outputs": [
    {
     "name": "stdout",
     "output_type": "stream",
     "text": [
      "2019-08-01 00:00:00\n",
      "2019-08-31 00:00:00\n",
      "2019-08-01 00:00:00\n",
      "2019-08-31 00:00:00\n"
     ]
    }
   ],
   "source": [
    "hypothesis['Hypothesis'].nunique()\n",
    "# В наших данных 9 уникальных гипотез\n",
    "\n",
    "orders['transactionId'].nunique()\n",
    "# В наших данных 1197 уникальных идентификаторов заказа\n",
    "\n",
    "orders['visitorId'].nunique()\n",
    "# В наших данных 1031 уникальных идентификаторов пользователей, совершивших заказ; значит, некоторые пользователи совершали несколько заказов.\n",
    "\n",
    "# Проверим, за какой период мы проводим исследование:\n",
    "print(visits['date'].min())\n",
    "print(visits['date'].max())\n",
    "\n",
    "print(orders['date'].min())\n",
    "print(orders['date'].max())\n"
   ]
  },
  {
   "cell_type": "markdown",
   "metadata": {},
   "source": [
    "**Вывод к Шагу 1**"
   ]
  },
  {
   "cell_type": "markdown",
   "metadata": {},
   "source": [
    "На Шаге 1 мы изучили 3 датасета о гипотезах, а также заказах и посещениях, которые мы используем для осуществления A/В теста. У нас есть 9 уникальных гипотез, 1197 уникальных идентификаторов заказа и 1031 уникальных идентификаторов пользователей. Данные предоставлены за август 2019 года. Полностью повторяющиеся строки отсутствуют, формат столбцов `date` изменен."
   ]
  },
  {
   "cell_type": "markdown",
   "metadata": {},
   "source": [
    "# Шаг 2. Приоритезация гипотез."
   ]
  },
  {
   "cell_type": "markdown",
   "metadata": {},
   "source": [
    "Воспользуемся двумя способами приоритизации гипотез: ICE и RICE."
   ]
  },
  {
   "cell_type": "code",
   "execution_count": 9,
   "metadata": {},
   "outputs": [],
   "source": [
    "# Приоритезация гипотез методом ICE, учитывая показатели impact, confidence, effort/\"влияние, уверенность, усилия / простота\":\n",
    "hypothesis['ICE']=hypothesis['Impact']*hypothesis['Confidence']/hypothesis['Efforts']\n",
    "hypothesis\n",
    "pd.set_option('display.max_colwidth', 0)"
   ]
  },
  {
   "cell_type": "code",
   "execution_count": 10,
   "metadata": {},
   "outputs": [
    {
     "data": {
      "text/html": [
       "<div>\n",
       "<style scoped>\n",
       "    .dataframe tbody tr th:only-of-type {\n",
       "        vertical-align: middle;\n",
       "    }\n",
       "\n",
       "    .dataframe tbody tr th {\n",
       "        vertical-align: top;\n",
       "    }\n",
       "\n",
       "    .dataframe thead th {\n",
       "        text-align: right;\n",
       "    }\n",
       "</style>\n",
       "<table border=\"1\" class=\"dataframe\">\n",
       "  <thead>\n",
       "    <tr style=\"text-align: right;\">\n",
       "      <th></th>\n",
       "      <th>Hypothesis</th>\n",
       "      <th>ICE</th>\n",
       "    </tr>\n",
       "  </thead>\n",
       "  <tbody>\n",
       "    <tr>\n",
       "      <th>8</th>\n",
       "      <td>Запустить акцию, дающую скидку на товар в день рождения</td>\n",
       "      <td>16.200000</td>\n",
       "    </tr>\n",
       "    <tr>\n",
       "      <th>0</th>\n",
       "      <td>Добавить два новых канала привлечения трафика, что позволит привлекать на 30% больше пользователей</td>\n",
       "      <td>13.333333</td>\n",
       "    </tr>\n",
       "    <tr>\n",
       "      <th>7</th>\n",
       "      <td>Добавить форму подписки на все основные страницы, чтобы собрать базу клиентов для email-рассылок</td>\n",
       "      <td>11.200000</td>\n",
       "    </tr>\n",
       "    <tr>\n",
       "      <th>6</th>\n",
       "      <td>Показать на главной странице баннеры с актуальными акциями и распродажами, чтобы увеличить конверсию</td>\n",
       "      <td>8.000000</td>\n",
       "    </tr>\n",
       "    <tr>\n",
       "      <th>2</th>\n",
       "      <td>Добавить блоки рекомендаций товаров на сайт интернет магазина, чтобы повысить конверсию и средний чек заказа</td>\n",
       "      <td>7.000000</td>\n",
       "    </tr>\n",
       "    <tr>\n",
       "      <th>1</th>\n",
       "      <td>Запустить собственную службу доставки, что сократит срок доставки заказов</td>\n",
       "      <td>2.000000</td>\n",
       "    </tr>\n",
       "    <tr>\n",
       "      <th>5</th>\n",
       "      <td>Добавить страницу отзывов клиентов о магазине, что позволит увеличить количество заказов</td>\n",
       "      <td>1.333333</td>\n",
       "    </tr>\n",
       "    <tr>\n",
       "      <th>3</th>\n",
       "      <td>Изменить структура категорий, что увеличит конверсию, т.к. пользователи быстрее найдут нужный товар</td>\n",
       "      <td>1.125000</td>\n",
       "    </tr>\n",
       "    <tr>\n",
       "      <th>4</th>\n",
       "      <td>Изменить цвет фона главной страницы, чтобы увеличить вовлеченность пользователей</td>\n",
       "      <td>1.000000</td>\n",
       "    </tr>\n",
       "  </tbody>\n",
       "</table>\n",
       "</div>"
      ],
      "text/plain": [
       "                                                                                                     Hypothesis  \\\n",
       "8  Запустить акцию, дающую скидку на товар в день рождения                                                        \n",
       "0  Добавить два новых канала привлечения трафика, что позволит привлекать на 30% больше пользователей             \n",
       "7  Добавить форму подписки на все основные страницы, чтобы собрать базу клиентов для email-рассылок               \n",
       "6  Показать на главной странице баннеры с актуальными акциями и распродажами, чтобы увеличить конверсию           \n",
       "2  Добавить блоки рекомендаций товаров на сайт интернет магазина, чтобы повысить конверсию и средний чек заказа   \n",
       "1  Запустить собственную службу доставки, что сократит срок доставки заказов                                      \n",
       "5  Добавить страницу отзывов клиентов о магазине, что позволит увеличить количество заказов                       \n",
       "3  Изменить структура категорий, что увеличит конверсию, т.к. пользователи быстрее найдут нужный товар            \n",
       "4  Изменить цвет фона главной страницы, чтобы увеличить вовлеченность пользователей                               \n",
       "\n",
       "         ICE  \n",
       "8  16.200000  \n",
       "0  13.333333  \n",
       "7  11.200000  \n",
       "6  8.000000   \n",
       "2  7.000000   \n",
       "1  2.000000   \n",
       "5  1.333333   \n",
       "3  1.125000   \n",
       "4  1.000000   "
      ]
     },
     "execution_count": 10,
     "metadata": {},
     "output_type": "execute_result"
    }
   ],
   "source": [
    "hypothesis[['Hypothesis','ICE']].sort_values(by='ICE', ascending=False)"
   ]
  },
  {
   "cell_type": "markdown",
   "metadata": {},
   "source": [
    "Наиболее перспективные гипотезы по ICE: 8,0,7"
   ]
  },
  {
   "cell_type": "code",
   "execution_count": 11,
   "metadata": {},
   "outputs": [
    {
     "data": {
      "text/html": [
       "<div>\n",
       "<style scoped>\n",
       "    .dataframe tbody tr th:only-of-type {\n",
       "        vertical-align: middle;\n",
       "    }\n",
       "\n",
       "    .dataframe tbody tr th {\n",
       "        vertical-align: top;\n",
       "    }\n",
       "\n",
       "    .dataframe thead th {\n",
       "        text-align: right;\n",
       "    }\n",
       "</style>\n",
       "<table border=\"1\" class=\"dataframe\">\n",
       "  <thead>\n",
       "    <tr style=\"text-align: right;\">\n",
       "      <th></th>\n",
       "      <th>Hypothesis</th>\n",
       "      <th>Reach</th>\n",
       "      <th>Impact</th>\n",
       "      <th>Confidence</th>\n",
       "      <th>Efforts</th>\n",
       "      <th>ICE</th>\n",
       "      <th>RICE</th>\n",
       "    </tr>\n",
       "  </thead>\n",
       "  <tbody>\n",
       "    <tr>\n",
       "      <th>0</th>\n",
       "      <td>Добавить два новых канала привлечения трафика, что позволит привлекать на 30% больше пользователей</td>\n",
       "      <td>3</td>\n",
       "      <td>10</td>\n",
       "      <td>8</td>\n",
       "      <td>6</td>\n",
       "      <td>13.333333</td>\n",
       "      <td>40.0</td>\n",
       "    </tr>\n",
       "    <tr>\n",
       "      <th>1</th>\n",
       "      <td>Запустить собственную службу доставки, что сократит срок доставки заказов</td>\n",
       "      <td>2</td>\n",
       "      <td>5</td>\n",
       "      <td>4</td>\n",
       "      <td>10</td>\n",
       "      <td>2.000000</td>\n",
       "      <td>4.0</td>\n",
       "    </tr>\n",
       "    <tr>\n",
       "      <th>2</th>\n",
       "      <td>Добавить блоки рекомендаций товаров на сайт интернет магазина, чтобы повысить конверсию и средний чек заказа</td>\n",
       "      <td>8</td>\n",
       "      <td>3</td>\n",
       "      <td>7</td>\n",
       "      <td>3</td>\n",
       "      <td>7.000000</td>\n",
       "      <td>56.0</td>\n",
       "    </tr>\n",
       "    <tr>\n",
       "      <th>3</th>\n",
       "      <td>Изменить структура категорий, что увеличит конверсию, т.к. пользователи быстрее найдут нужный товар</td>\n",
       "      <td>8</td>\n",
       "      <td>3</td>\n",
       "      <td>3</td>\n",
       "      <td>8</td>\n",
       "      <td>1.125000</td>\n",
       "      <td>9.0</td>\n",
       "    </tr>\n",
       "    <tr>\n",
       "      <th>4</th>\n",
       "      <td>Изменить цвет фона главной страницы, чтобы увеличить вовлеченность пользователей</td>\n",
       "      <td>3</td>\n",
       "      <td>1</td>\n",
       "      <td>1</td>\n",
       "      <td>1</td>\n",
       "      <td>1.000000</td>\n",
       "      <td>3.0</td>\n",
       "    </tr>\n",
       "    <tr>\n",
       "      <th>5</th>\n",
       "      <td>Добавить страницу отзывов клиентов о магазине, что позволит увеличить количество заказов</td>\n",
       "      <td>3</td>\n",
       "      <td>2</td>\n",
       "      <td>2</td>\n",
       "      <td>3</td>\n",
       "      <td>1.333333</td>\n",
       "      <td>4.0</td>\n",
       "    </tr>\n",
       "    <tr>\n",
       "      <th>6</th>\n",
       "      <td>Показать на главной странице баннеры с актуальными акциями и распродажами, чтобы увеличить конверсию</td>\n",
       "      <td>5</td>\n",
       "      <td>3</td>\n",
       "      <td>8</td>\n",
       "      <td>3</td>\n",
       "      <td>8.000000</td>\n",
       "      <td>40.0</td>\n",
       "    </tr>\n",
       "    <tr>\n",
       "      <th>7</th>\n",
       "      <td>Добавить форму подписки на все основные страницы, чтобы собрать базу клиентов для email-рассылок</td>\n",
       "      <td>10</td>\n",
       "      <td>7</td>\n",
       "      <td>8</td>\n",
       "      <td>5</td>\n",
       "      <td>11.200000</td>\n",
       "      <td>112.0</td>\n",
       "    </tr>\n",
       "    <tr>\n",
       "      <th>8</th>\n",
       "      <td>Запустить акцию, дающую скидку на товар в день рождения</td>\n",
       "      <td>1</td>\n",
       "      <td>9</td>\n",
       "      <td>9</td>\n",
       "      <td>5</td>\n",
       "      <td>16.200000</td>\n",
       "      <td>16.2</td>\n",
       "    </tr>\n",
       "  </tbody>\n",
       "</table>\n",
       "</div>"
      ],
      "text/plain": [
       "                                                                                                     Hypothesis  \\\n",
       "0  Добавить два новых канала привлечения трафика, что позволит привлекать на 30% больше пользователей             \n",
       "1  Запустить собственную службу доставки, что сократит срок доставки заказов                                      \n",
       "2  Добавить блоки рекомендаций товаров на сайт интернет магазина, чтобы повысить конверсию и средний чек заказа   \n",
       "3  Изменить структура категорий, что увеличит конверсию, т.к. пользователи быстрее найдут нужный товар            \n",
       "4  Изменить цвет фона главной страницы, чтобы увеличить вовлеченность пользователей                               \n",
       "5  Добавить страницу отзывов клиентов о магазине, что позволит увеличить количество заказов                       \n",
       "6  Показать на главной странице баннеры с актуальными акциями и распродажами, чтобы увеличить конверсию           \n",
       "7  Добавить форму подписки на все основные страницы, чтобы собрать базу клиентов для email-рассылок               \n",
       "8  Запустить акцию, дающую скидку на товар в день рождения                                                        \n",
       "\n",
       "   Reach  Impact  Confidence  Efforts        ICE   RICE  \n",
       "0  3      10      8           6        13.333333  40.0   \n",
       "1  2      5       4           10       2.000000   4.0    \n",
       "2  8      3       7           3        7.000000   56.0   \n",
       "3  8      3       3           8        1.125000   9.0    \n",
       "4  3      1       1           1        1.000000   3.0    \n",
       "5  3      2       2           3        1.333333   4.0    \n",
       "6  5      3       8           3        8.000000   40.0   \n",
       "7  10     7       8           5        11.200000  112.0  \n",
       "8  1      9       9           5        16.200000  16.2   "
      ]
     },
     "execution_count": 11,
     "metadata": {},
     "output_type": "execute_result"
    }
   ],
   "source": [
    "# Приоритезация гипотез методом RICE, учитывая четыре компонента:\n",
    "# Reach — скольких пользователей затронет изменение, которое вы хотите внести;\n",
    "# Impact — насколько сильно изменение повлияет на пользователей, их опыт и удовлетворение от продукта;\n",
    "# Confidence — насколько вы уверены, что это изменение повлияет на пользователей именно так; \n",
    "# Efforts — сколько стоит протестировать эту гипотезу. \n",
    "\n",
    "hypothesis['RICE']=hypothesis['Impact']*hypothesis['Confidence']*hypothesis['Reach']/hypothesis['Efforts']\n",
    "hypothesis"
   ]
  },
  {
   "cell_type": "code",
   "execution_count": 12,
   "metadata": {},
   "outputs": [
    {
     "data": {
      "text/html": [
       "<div>\n",
       "<style scoped>\n",
       "    .dataframe tbody tr th:only-of-type {\n",
       "        vertical-align: middle;\n",
       "    }\n",
       "\n",
       "    .dataframe tbody tr th {\n",
       "        vertical-align: top;\n",
       "    }\n",
       "\n",
       "    .dataframe thead th {\n",
       "        text-align: right;\n",
       "    }\n",
       "</style>\n",
       "<table border=\"1\" class=\"dataframe\">\n",
       "  <thead>\n",
       "    <tr style=\"text-align: right;\">\n",
       "      <th></th>\n",
       "      <th>Hypothesis</th>\n",
       "      <th>RICE</th>\n",
       "    </tr>\n",
       "  </thead>\n",
       "  <tbody>\n",
       "    <tr>\n",
       "      <th>7</th>\n",
       "      <td>Добавить форму подписки на все основные страницы, чтобы собрать базу клиентов для email-рассылок</td>\n",
       "      <td>112.0</td>\n",
       "    </tr>\n",
       "    <tr>\n",
       "      <th>2</th>\n",
       "      <td>Добавить блоки рекомендаций товаров на сайт интернет магазина, чтобы повысить конверсию и средний чек заказа</td>\n",
       "      <td>56.0</td>\n",
       "    </tr>\n",
       "    <tr>\n",
       "      <th>0</th>\n",
       "      <td>Добавить два новых канала привлечения трафика, что позволит привлекать на 30% больше пользователей</td>\n",
       "      <td>40.0</td>\n",
       "    </tr>\n",
       "    <tr>\n",
       "      <th>6</th>\n",
       "      <td>Показать на главной странице баннеры с актуальными акциями и распродажами, чтобы увеличить конверсию</td>\n",
       "      <td>40.0</td>\n",
       "    </tr>\n",
       "    <tr>\n",
       "      <th>8</th>\n",
       "      <td>Запустить акцию, дающую скидку на товар в день рождения</td>\n",
       "      <td>16.2</td>\n",
       "    </tr>\n",
       "    <tr>\n",
       "      <th>3</th>\n",
       "      <td>Изменить структура категорий, что увеличит конверсию, т.к. пользователи быстрее найдут нужный товар</td>\n",
       "      <td>9.0</td>\n",
       "    </tr>\n",
       "    <tr>\n",
       "      <th>1</th>\n",
       "      <td>Запустить собственную службу доставки, что сократит срок доставки заказов</td>\n",
       "      <td>4.0</td>\n",
       "    </tr>\n",
       "    <tr>\n",
       "      <th>5</th>\n",
       "      <td>Добавить страницу отзывов клиентов о магазине, что позволит увеличить количество заказов</td>\n",
       "      <td>4.0</td>\n",
       "    </tr>\n",
       "    <tr>\n",
       "      <th>4</th>\n",
       "      <td>Изменить цвет фона главной страницы, чтобы увеличить вовлеченность пользователей</td>\n",
       "      <td>3.0</td>\n",
       "    </tr>\n",
       "  </tbody>\n",
       "</table>\n",
       "</div>"
      ],
      "text/plain": [
       "                                                                                                     Hypothesis  \\\n",
       "7  Добавить форму подписки на все основные страницы, чтобы собрать базу клиентов для email-рассылок               \n",
       "2  Добавить блоки рекомендаций товаров на сайт интернет магазина, чтобы повысить конверсию и средний чек заказа   \n",
       "0  Добавить два новых канала привлечения трафика, что позволит привлекать на 30% больше пользователей             \n",
       "6  Показать на главной странице баннеры с актуальными акциями и распродажами, чтобы увеличить конверсию           \n",
       "8  Запустить акцию, дающую скидку на товар в день рождения                                                        \n",
       "3  Изменить структура категорий, что увеличит конверсию, т.к. пользователи быстрее найдут нужный товар            \n",
       "1  Запустить собственную службу доставки, что сократит срок доставки заказов                                      \n",
       "5  Добавить страницу отзывов клиентов о магазине, что позволит увеличить количество заказов                       \n",
       "4  Изменить цвет фона главной страницы, чтобы увеличить вовлеченность пользователей                               \n",
       "\n",
       "    RICE  \n",
       "7  112.0  \n",
       "2  56.0   \n",
       "0  40.0   \n",
       "6  40.0   \n",
       "8  16.2   \n",
       "3  9.0    \n",
       "1  4.0    \n",
       "5  4.0    \n",
       "4  3.0    "
      ]
     },
     "execution_count": 12,
     "metadata": {},
     "output_type": "execute_result"
    }
   ],
   "source": [
    "hypothesis[['Hypothesis','RICE']].sort_values(by='RICE', ascending=False)"
   ]
  },
  {
   "cell_type": "markdown",
   "metadata": {},
   "source": [
    "Наиболее перспективные гипотезы по RICE: 7, 2, 0, 6"
   ]
  },
  {
   "cell_type": "markdown",
   "metadata": {},
   "source": [
    "**Промежуточный вывод к Шагу 2**\n",
    "\n",
    "Наиболее перспективные гипотезы по ICE: 8,0,7. Наиболее перспективные гипотезы по RICE: 7, 2, 0, 6. Приоритизация гипотез при применении RICE вместо ICE изменилась. Возможная причина - показатель количества пользователей, который мы учитываем при приоритезации методом RICE. Например, у гипотезы 7 этот показатель выше (Reach=10), чем у гипотезы 8 (Reach=1)."
   ]
  },
  {
   "cell_type": "markdown",
   "metadata": {},
   "source": [
    "# Шаг 3. Анализ A/B-теста"
   ]
  },
  {
   "cell_type": "markdown",
   "metadata": {},
   "source": [
    "**1. Постройте график кумулятивной выручки по группам. Сделайте выводы и предположения.**"
   ]
  },
  {
   "cell_type": "code",
   "execution_count": 13,
   "metadata": {},
   "outputs": [
    {
     "data": {
      "image/png": "[encoded data removed]",
      "text/plain": [
       "<Figure size 432x288 with 1 Axes>"
      ]
     },
     "metadata": {
      "needs_background": "light"
     },
     "output_type": "display_data"
    },
    {
     "data": {
      "text/plain": [
       "<Figure size 360x576 with 0 Axes>"
      ]
     },
     "metadata": {},
     "output_type": "display_data"
    }
   ],
   "source": [
    "# Создадим датафрейм datesGroups с уникальными парами значений 'date' и 'group', таблицы orders. Избавимся от дубликатов методом drop_duplicates().\n",
    "datesGroups = orders[['date','group']].drop_duplicates() \n",
    "\n",
    "# Объявим переменную ordersAggregated, содержащую: дату; \n",
    "# группу A/B-теста; \n",
    "# число уникальных заказов в группе теста по указанную дату включительно; \n",
    "# число уникальных пользователей, совершивших хотя бы 1 заказ в группе теста по указанную дату включительно; \n",
    "# суммарную выручку заказов в группе теста по указанную дату включительно\n",
    "ordersAggregated = datesGroups.apply(lambda x: orders[np.logical_and(orders['date'] <= x['date'], orders['group'] == x['group'])]\\\n",
    ".agg({'date' : 'max', 'group' : 'max', 'transactionId' : 'nunique', 'visitorId' : 'nunique', 'revenue' : 'sum'}), axis=1).sort_values(by=['date','group'])\n",
    "\n",
    "\n",
    "# Объявим переменную visitorsAggregated, содержащую:\n",
    "# дату;\n",
    "# группу A/B-теста;\n",
    "# количество уникальных посетителей в группе теста по указанную дату включительно\n",
    "visitorsAggregated = datesGroups.apply(lambda x: visits[np.logical_and(visits['date'] <= x['date'], visits['group'] == x['group'])].agg({'date' : 'max', 'group' : 'max', 'visitors' : 'sum'}), axis=1).sort_values(by=['date','group'])\n",
    "\n",
    "# Определим переменную cumulativeData, объединив ordersAggregated и visitorsAggregated по колонкам 'date', 'group' методом merge()\n",
    "cumulativeData = ordersAggregated.merge(visitorsAggregated, left_on=['date', 'group'], right_on=['date', 'group'])\n",
    "\n",
    "# Присвоим столбцам cumulativeData названия ['date', 'group', 'orders', 'buyers', 'revenue', 'visitors']\n",
    "cumulativeData.columns = ['date', 'group', 'orders', 'buyers', 'revenue', 'visitors']\n",
    "\n",
    "cumulativeData\n",
    "\n",
    "# датафрейм с кумулятивным количеством заказов и кумулятивной выручкой по дням в группе А\n",
    "cumulativeRevenueA = cumulativeData[cumulativeData['group']=='A'][['date','revenue', 'orders']]\n",
    "\n",
    "# датафрейм с кумулятивным количеством заказов и кумулятивной выручкой по дням в группе B\n",
    "cumulativeRevenueB = cumulativeData[cumulativeData['group']=='B'][['date','revenue', 'orders']]\n",
    "\n",
    "# Строим график выручки группы А\n",
    "plt.plot(cumulativeRevenueA['date'], cumulativeRevenueA['revenue'], label='A')\n",
    "\n",
    "# Строим график выручки группы B\n",
    "plt.plot(cumulativeRevenueB['date'], cumulativeRevenueB['revenue'], label='B')\n",
    "\n",
    "plt.legend() \n",
    "plt.xlabel('Дата')\n",
    "plt.ylabel('Выручка')\n",
    "plt.title('График кумулятивной выручки по группам')\n",
    "plt.xticks(color='black', rotation=45, fontweight='bold', fontsize='10', horizontalalignment='right')\n",
    "plt.figure(figsize=(5,8))\n",
    "plt.show()"
   ]
  },
  {
   "cell_type": "markdown",
   "metadata": {},
   "source": [
    "В начале исследуемого периода сегмент B и A были наравных. Затем сегмент B \"вырвался\" вперед и продолжал лидировать весь остаток теста. Необхолимо также проверить, были ли аномальные заказы, которые могли повлиять на результаты."
   ]
  },
  {
   "cell_type": "markdown",
   "metadata": {},
   "source": [
    "**2. Постройте график кумулятивного среднего чека по группам. Сделайте выводы и предположения.**"
   ]
  },
  {
   "cell_type": "code",
   "execution_count": 14,
   "metadata": {},
   "outputs": [
    {
     "data": {
      "image/png": "[encoded data removed]",
      "text/plain": [
       "<Figure size 432x288 with 1 Axes>"
      ]
     },
     "metadata": {
      "needs_background": "light"
     },
     "output_type": "display_data"
    },
    {
     "data": {
      "text/plain": [
       "<Figure size 360x576 with 0 Axes>"
      ]
     },
     "metadata": {},
     "output_type": "display_data"
    }
   ],
   "source": [
    "cumulativeRevenueA = cumulativeData[cumulativeData['group'] == 'A'][\n",
    "    ['date', 'revenue', 'orders']\n",
    "]\n",
    "cumulativeRevenueB = cumulativeData[cumulativeData['group'] == 'B'][\n",
    "    ['date', 'revenue', 'orders']\n",
    "]\n",
    "\n",
    "plt.plot(cumulativeRevenueA['date'], cumulativeRevenueA['revenue']/cumulativeRevenueA['orders'], label='A')\n",
    "plt.plot(cumulativeRevenueB['date'], cumulativeRevenueB['revenue']/cumulativeRevenueB['orders'], label='B')\n",
    "plt.legend() \n",
    "\n",
    "plt.legend() \n",
    "plt.xlabel('Дата')\n",
    "plt.ylabel('Средняя выручка за чек')\n",
    "plt.title('График кумулятивного среднего чека по группам')\n",
    "plt.xticks(color='black', rotation=45, fontweight='bold', fontsize='10', horizontalalignment='right')\n",
    "plt.figure(figsize=(5,8))\n",
    "plt.show()"
   ]
  },
  {
   "cell_type": "markdown",
   "metadata": {},
   "source": [
    "Кумулятивное значение среднего чека колеблется в первой половине периода для обеих групп. Во второй половине периода среднее значение по группе А было более стабильным. Опять же, в группу B могли попасть слишком дорогие заказы, что может объяснить резкий рост на графике."
   ]
  },
  {
   "cell_type": "markdown",
   "metadata": {},
   "source": [
    "**3. Постройте график относительного изменения кумулятивного среднего чека группы B к группе A. Сделайте выводы и предположения.**"
   ]
  },
  {
   "cell_type": "code",
   "execution_count": 15,
   "metadata": {},
   "outputs": [
    {
     "data": {
      "image/png": "[encoded data removed]",
      "text/plain": [
       "<Figure size 432x288 with 1 Axes>"
      ]
     },
     "metadata": {
      "needs_background": "light"
     },
     "output_type": "display_data"
    },
    {
     "data": {
      "text/plain": [
       "<Figure size 360x576 with 0 Axes>"
      ]
     },
     "metadata": {},
     "output_type": "display_data"
    }
   ],
   "source": [
    "# собираем данные в одном датафрейме\n",
    "mergedCumulativeRevenue = cumulativeRevenueA.merge(cumulativeRevenueB, left_on='date', right_on='date', how='left', suffixes=['A', 'B'])\n",
    "\n",
    "# cтроим отношение средних чеков\n",
    "plt.plot(mergedCumulativeRevenue['date'], (mergedCumulativeRevenue['revenueB']/mergedCumulativeRevenue['ordersB'])/(mergedCumulativeRevenue['revenueA']/mergedCumulativeRevenue['ordersA'])-1)\n",
    "\n",
    "# добавляем ось X\n",
    "plt.axhline(y=0, color='black', linestyle='--')\n",
    "\n",
    "\n",
    "plt.xlabel('Дата')\n",
    "plt.ylabel('Средняя выручка за чек')\n",
    "plt.title('График относительного изменения кумулятивного среднего чека группы B к группе A')\n",
    "plt.xticks(color='black', rotation=45, fontweight='bold', fontsize='10', horizontalalignment='right')\n",
    "plt.figure(figsize=(5,8))\n",
    "plt.show()\n"
   ]
  },
  {
   "cell_type": "markdown",
   "metadata": {},
   "source": [
    "Резкие колебания заметны в середине месяца. Возможно, тогда и были совершены аномальньные заказы."
   ]
  },
  {
   "cell_type": "markdown",
   "metadata": {},
   "source": [
    "**4. Постройте график кумулятивного среднего количества заказов на посетителя по группам. Сделайте выводы и предположения.**"
   ]
  },
  {
   "cell_type": "code",
   "execution_count": 16,
   "metadata": {},
   "outputs": [
    {
     "data": {
      "image/png": "[encoded data removed]",
      "text/plain": [
       "<Figure size 432x288 with 1 Axes>"
      ]
     },
     "metadata": {
      "needs_background": "light"
     },
     "output_type": "display_data"
    },
    {
     "data": {
      "text/plain": [
       "<Figure size 360x576 with 0 Axes>"
      ]
     },
     "metadata": {},
     "output_type": "display_data"
    }
   ],
   "source": [
    "# считаем кумулятивную среднее количество заказов\n",
    "cumulativeData['conversion'] = cumulativeData['orders']/cumulativeData['visitors']\n",
    "\n",
    "# отделяем данные по группе A\n",
    "cumulativeDataA = cumulativeData[cumulativeData['group']=='A']\n",
    "\n",
    "# отделяем данные по группе B\n",
    "cumulativeDataB = cumulativeData[cumulativeData['group']=='B']\n",
    "\n",
    "# строим графики\n",
    "plt.plot(cumulativeDataA['date'], cumulativeDataA['conversion'], label='A')\n",
    "plt.plot(cumulativeDataB['date'], cumulativeDataB['conversion'], label='B')\n",
    "plt.legend()\n",
    "\n",
    "plt.xlabel('Дата')\n",
    "plt.ylabel('Кумулятивное среднее количество заказов')\n",
    "plt.title('График кумулятивного среднего количества заказов на посетителя по группам')\n",
    "plt.xticks(color='black', rotation=45, fontweight='bold', fontsize='10', horizontalalignment='right')\n",
    "plt.figure(figsize=(5,8))\n",
    "plt.show()"
   ]
  },
  {
   "cell_type": "markdown",
   "metadata": {},
   "source": [
    "Конверсия группы А сначала выше, чем у В. Однако чуть позже конверсия В резко увеличилась и больше не снижалась до уровна А или ниже. Попробуем устаносить масштаб осей."
   ]
  },
  {
   "cell_type": "code",
   "execution_count": 17,
   "metadata": {},
   "outputs": [
    {
     "data": {
      "image/png": "[encoded data removed]",
      "text/plain": [
       "<Figure size 432x288 with 1 Axes>"
      ]
     },
     "metadata": {
      "needs_background": "light"
     },
     "output_type": "display_data"
    },
    {
     "data": {
      "text/plain": [
       "<Figure size 360x576 with 0 Axes>"
      ]
     },
     "metadata": {},
     "output_type": "display_data"
    }
   ],
   "source": [
    "plt.plot(cumulativeDataA['date'], cumulativeDataA['conversion'], label='A')\n",
    "plt.plot(cumulativeDataB['date'], cumulativeDataB['conversion'], label='B')\n",
    "plt.legend()\n",
    "plt.ylim(0, 0.05)\n",
    "\n",
    "plt.xlabel('Дата')\n",
    "plt.ylabel('Кумулятивное среднее количество заказов')\n",
    "plt.title('График кумулятивного среднего количества заказов на посетителя по группам')\n",
    "plt.xticks(color='black', rotation=45, fontweight='bold', fontsize='10', horizontalalignment='right')\n",
    "plt.figure(figsize=(5,8))\n",
    "plt.show()"
   ]
  },
  {
   "cell_type": "markdown",
   "metadata": {},
   "source": [
    "Изменив масштаб, видно, что колебания были не такими сильными: от 3 до чуть менее 4%. "
   ]
  },
  {
   "cell_type": "markdown",
   "metadata": {},
   "source": [
    "**5. Постройте график относительного изменения кумулятивного среднего количества заказов на посетителя группы B к группе A. Сделайте выводы и предположения.**"
   ]
  },
  {
   "cell_type": "code",
   "execution_count": 18,
   "metadata": {},
   "outputs": [
    {
     "data": {
      "image/png": "[encoded data removed]",
      "text/plain": [
       "<Figure size 432x288 with 1 Axes>"
      ]
     },
     "metadata": {
      "needs_background": "light"
     },
     "output_type": "display_data"
    },
    {
     "data": {
      "text/plain": [
       "<Figure size 360x576 with 0 Axes>"
      ]
     },
     "metadata": {},
     "output_type": "display_data"
    }
   ],
   "source": [
    "cumulativeData['conversion'] = (\n",
    "    cumulativeData['orders'] / cumulativeData['visitors']\n",
    ")\n",
    "\n",
    "cumulativeDataA = cumulativeData[cumulativeData['group'] == 'A']\n",
    "cumulativeDataB = cumulativeData[cumulativeData['group'] == 'B']\n",
    "\n",
    "mergedCumulativeConversions = cumulativeDataA[['date','conversion']].merge(cumulativeDataB[['date','conversion']], left_on='date', right_on='date', how='left', suffixes=['A', 'B'])\n",
    "\n",
    "plt.plot(mergedCumulativeConversions['date'], mergedCumulativeConversions['conversionB']/mergedCumulativeConversions['conversionA']-1, label=\"Относительный прирост среднего количества заказов группы B относительно группы A\")\n",
    "plt.legend()\n",
    "\n",
    "plt.axhline(y=0, color='black', linestyle='--')\n",
    "plt.axhline(y=0.2, color='grey', linestyle='--')\n",
    "\n",
    "plt.xlabel('Дата')\n",
    "plt.ylabel('Изменения кумулятивного среднего количества заказов')\n",
    "plt.title('График относительного изменения кумулятивного среднего количества заказов на посетителя группы B к группе A')\n",
    "plt.ylim(-0.5, 0.5)\n",
    "plt.xticks(color='black', rotation=45, fontweight='bold', fontsize='10', horizontalalignment='right')\n",
    "plt.figure(figsize=(5,8))\n",
    "plt.show()"
   ]
  },
  {
   "cell_type": "markdown",
   "metadata": {},
   "source": [
    "Конверсия группы В лидирует почти с начала теста и находится примерно на уровне 20% прироста относительно группы А к середине месяца. Затем уровень немного опустился до уровня 10-15%."
   ]
  },
  {
   "cell_type": "markdown",
   "metadata": {},
   "source": [
    "**6. Постройте точечный график количества заказов по пользователям. Сделайте выводы и предположения.**"
   ]
  },
  {
   "cell_type": "code",
   "execution_count": 19,
   "metadata": {},
   "outputs": [
    {
     "data": {
      "text/plain": [
       "Text(0.5, 1.0, 'График количества заказов по пользователям')"
      ]
     },
     "execution_count": 19,
     "metadata": {},
     "output_type": "execute_result"
    },
    {
     "data": {
      "image/png": "[encoded data removed]",
      "text/plain": [
       "<Figure size 432x288 with 1 Axes>"
      ]
     },
     "metadata": {
      "needs_background": "light"
     },
     "output_type": "display_data"
    }
   ],
   "source": [
    "# Посчитаем количество заказов по пользователям и построим точечную диаграмму: \n",
    "ordersByUsers = (\n",
    "    orders.groupby('visitorId', as_index=False)\n",
    "    .agg({'transactionId': 'nunique'})\n",
    ")\n",
    "\n",
    "ordersByUsers.columns = ['visitorId', 'orders']\n",
    "x_values = pd.Series(range(0,len(ordersByUsers)))\n",
    "plt.scatter(x_values, ordersByUsers['orders']) \n",
    "\n",
    "plt.xlabel('Количество пользователей')\n",
    "plt.ylabel('Заказы')\n",
    "plt.title('График количества заказов по пользователям')"
   ]
  },
  {
   "cell_type": "markdown",
   "metadata": {},
   "source": [
    "В основном пользователи совершали по 1 заказу. Также популярны были объемы заказов в размере 2-5. Их точная доля не ясна. Необходимо понять, стоит ли считать их аномалиями или нет. Аномалиями пока выглядят заказы в количестве от 8.\n",
    "Посчитаем выборочные перцентили количества заказов на одного пользователя."
   ]
  },
  {
   "cell_type": "markdown",
   "metadata": {},
   "source": [
    "**7. Посчитайте 95-й и 99-й перцентили количества заказов на пользователя. Выберите границу для определения аномальных пользователей.**"
   ]
  },
  {
   "cell_type": "code",
   "execution_count": 20,
   "metadata": {},
   "outputs": [
    {
     "name": "stdout",
     "output_type": "stream",
     "text": [
      "[2. 4.]\n"
     ]
    }
   ],
   "source": [
    "print(np.percentile(ordersByUsers['orders'], [95, 99])) "
   ]
  },
  {
   "cell_type": "markdown",
   "metadata": {},
   "source": [
    "Не более 5% пользователей оформляли больше 2 заказов.  Не более 1% пользователей оформляли больше 4 заказов.\n",
    "\n",
    "Предлагается выбрать 4 заказа на одного пользователя за верхнюю границу числа заказов, и отсеять аномальных пользователей по ней."
   ]
  },
  {
   "cell_type": "markdown",
   "metadata": {},
   "source": [
    "**8. Постройте точечный график стоимостей заказов. Сделайте выводы и предположения.**"
   ]
  },
  {
   "cell_type": "code",
   "execution_count": 21,
   "metadata": {},
   "outputs": [
    {
     "data": {
      "text/plain": [
       "Text(0.5, 1.0, 'График стоимостей заказов')"
      ]
     },
     "execution_count": 21,
     "metadata": {},
     "output_type": "execute_result"
    },
    {
     "data": {
      "image/png": "[encoded data removed]",
      "text/plain": [
       "<Figure size 432x288 with 1 Axes>"
      ]
     },
     "metadata": {
      "needs_background": "light"
     },
     "output_type": "display_data"
    }
   ],
   "source": [
    "x_values = pd.Series(range(0, len(orders['revenue'])))\n",
    "plt.scatter(x_values, orders['revenue']) \n",
    "\n",
    "plt.xlabel('Количество заказов')\n",
    "plt.ylabel('Выручка')\n",
    "plt.title('График стоимостей заказов')"
   ]
  },
  {
   "cell_type": "markdown",
   "metadata": {},
   "source": [
    "Наибольшая часть стоимости заказов не превышает отметку примерно в 100 000. Есть выбросы в данных - заказ на сумму более 1 200 000, а также заказ на сумму около 200 000. Необходимо посчитать перцентили стоимости заказов, чтобы определить показатели точнее."
   ]
  },
  {
   "cell_type": "markdown",
   "metadata": {},
   "source": [
    "**9. Посчитайте 95-й и 99-й перцентили стоимости заказов. Выберите границу для определения аномальных заказов.**"
   ]
  },
  {
   "cell_type": "code",
   "execution_count": 22,
   "metadata": {},
   "outputs": [
    {
     "name": "stdout",
     "output_type": "stream",
     "text": [
      "[28000.  58233.2]\n"
     ]
    }
   ],
   "source": [
    "print(np.percentile(orders['revenue'], [95, 99])) "
   ]
  },
  {
   "cell_type": "markdown",
   "metadata": {},
   "source": [
    "Не более 5% заказов были дороже 28 000.  Не более 1% заказов были дороже 58 233."
   ]
  },
  {
   "cell_type": "markdown",
   "metadata": {},
   "source": [
    "Предлагается выбрать сумму заказа 58 233 за верхнюю границу и отсеять аномальных пользователей по ней."
   ]
  },
  {
   "cell_type": "markdown",
   "metadata": {},
   "source": [
    "**10. Посчитайте статистическую значимость различий в среднем количестве заказов на посетителя между группами по «сырым» данным. Сделайте выводы и предположения.**"
   ]
  },
  {
   "cell_type": "markdown",
   "metadata": {},
   "source": [
    "Посчитаем статистическую значимость различий в среднем числе заказов на пользователя без удаления аномальных данных.\n",
    "\n",
    "Сформулируем гипотезы. H0: различий в среднем количестве заказов на посетителя между группами по \"сырым\" данным нет. H1: различия в среднем между группами по \"сырым\" данным есть. \n",
    "\n",
    "Здесь и далее используемый критический уровень статистической значимости alpha=0,05"
   ]
  },
  {
   "cell_type": "code",
   "execution_count": 23,
   "metadata": {},
   "outputs": [
    {
     "name": "stdout",
     "output_type": "stream",
     "text": [
      "0.01679\n",
      "0.138\n"
     ]
    }
   ],
   "source": [
    "#  Сначала подготовим данные и получим таблицу со следующими данными:\n",
    "# количеством заказов в выбранную дату в группе A;\n",
    "# суммарной выручкой в выбранную дату в группе A;\n",
    "# количеством заказов в выбранную дату в группе B;\n",
    "# суммарной выручкой в выбранную дату в группе B;\n",
    "# суммарноым числом заказов до выбранной даты включительно в группе A;\n",
    "# суммарной выручкой до выбранной даты включительно в группе A;\n",
    "# суммарным количество заказов до выбранной даты включительно в группе B;\n",
    "# суммарной выручкой до выбранной даты включительно в группе B;\n",
    "# количеством пользователей в выбранную дату в группе A;\n",
    "# количеством пользователей в выбранную дату в группе B;\n",
    "# количеством пользователей до выбранной даты включительно в группе A;\n",
    "# количеством пользователей до выбранной даты включительно в группе B.\n",
    "\n",
    "visitorsADaily = visits[visits['group'] == 'A'][['date', 'visitors']]\n",
    "visitorsADaily.columns = ['date', 'visitorsPerDateA']\n",
    "\n",
    "visitorsACummulative = visitorsADaily.apply(\n",
    "    lambda x: visitorsADaily[visitorsADaily['date'] <= x['date']].agg(\n",
    "        {'date': 'max', 'visitorsPerDateA': 'sum'}\n",
    "    ),\n",
    "    axis=1,\n",
    ")\n",
    "visitorsACummulative.columns = ['date', 'visitorsCummulativeA']\n",
    "\n",
    "visitorsBDaily = visits[visits['group'] == 'B'][['date', 'visitors']]\n",
    "visitorsBDaily.columns = ['date', 'visitorsPerDateB']\n",
    "\n",
    "visitorsBCummulative = visitorsBDaily.apply(\n",
    "    lambda x: visitorsBDaily[visitorsBDaily['date'] <= x['date']].agg(\n",
    "        {'date': 'max', 'visitorsPerDateB': 'sum'}\n",
    "    ),\n",
    "    axis=1,\n",
    ")\n",
    "visitorsBCummulative.columns = ['date', 'visitorsCummulativeB']\n",
    "\n",
    "ordersADaily = (\n",
    "    orders[orders['group'] == 'A'][['date', 'transactionId', 'visitorId', 'revenue']]\n",
    "    .groupby('date', as_index=False)\n",
    "    .agg({'transactionId': pd.Series.nunique, 'revenue': 'sum'})\n",
    ")\n",
    "ordersADaily.columns = ['date', 'ordersPerDateA', 'revenuePerDateA']\n",
    "\n",
    "ordersACummulative = ordersADaily.apply(\n",
    "    lambda x: ordersADaily[ordersADaily['date'] <= x['date']].agg(\n",
    "        {'date': 'max', 'ordersPerDateA': 'sum', 'revenuePerDateA': 'sum'}\n",
    "    ),\n",
    "    axis=1,\n",
    ").sort_values(by=['date'])\n",
    "ordersACummulative.columns = [\n",
    "    'date',\n",
    "    'ordersCummulativeA',\n",
    "    'revenueCummulativeA',\n",
    "]\n",
    "\n",
    "ordersBDaily = (\n",
    "    orders[orders['group'] == 'B'][['date', 'transactionId', 'visitorId', 'revenue']]\n",
    "    .groupby('date', as_index=False)\n",
    "    .agg({'transactionId': pd.Series.nunique, 'revenue': 'sum'})\n",
    ")\n",
    "ordersBDaily.columns = ['date', 'ordersPerDateB', 'revenuePerDateB']\n",
    "\n",
    "ordersBCummulative = ordersBDaily.apply(\n",
    "    lambda x: ordersBDaily[ordersBDaily['date'] <= x['date']].agg(\n",
    "        {'date': 'max', 'ordersPerDateB': 'sum', 'revenuePerDateB': 'sum'}\n",
    "    ),\n",
    "    axis=1,\n",
    ").sort_values(by=['date'])\n",
    "ordersBCummulative.columns = [\n",
    "    'date',\n",
    "    'ordersCummulativeB',\n",
    "    'revenueCummulativeB',\n",
    "]\n",
    "\n",
    "data = (\n",
    "    ordersADaily.merge(\n",
    "        ordersBDaily, left_on='date', right_on='date', how='left'\n",
    "    )\n",
    "    .merge(ordersACummulative, left_on='date', right_on='date', how='left')\n",
    "    .merge(ordersBCummulative, left_on='date', right_on='date', how='left')\n",
    "    .merge(visitorsADaily, left_on='date', right_on='date', how='left')\n",
    "    .merge(visitorsBDaily, left_on='date', right_on='date', how='left')\n",
    "    .merge(visitorsACummulative, left_on='date', right_on='date', how='left')\n",
    "    .merge(visitorsBCummulative, left_on='date', right_on='date', how='left')\n",
    ")\n",
    "\n",
    "# Таблицу подготовили\n",
    "\n",
    "# Создадим переменные ordersByUsersA и ordersByUsersB со столбцами ['userId', 'orders']. \n",
    "# В них для пользователей, которые заказывали хотя бы 1 раз, укажем число совершённых заказов.\n",
    "\n",
    "ordersByUsersA = (\n",
    "    orders[orders['group'] == 'A']\n",
    "    .groupby('visitorId', as_index=False)\n",
    "    .agg({'transactionId': pd.Series.nunique})\n",
    ")\n",
    "ordersByUsersA.columns = ['userId', 'orders']\n",
    "\n",
    "ordersByUsersB = (\n",
    "    orders[orders['group'] == 'B']\n",
    "    .groupby('visitorId', as_index=False)\n",
    "    .agg({'transactionId': pd.Series.nunique})\n",
    ")\n",
    "\n",
    "ordersByUsersB.columns = ['userId', 'orders']\n",
    "\n",
    "# Объявим переменные sampleA и sampleB, в которых пользователям из разных групп будет соответствовать количество заказов. \n",
    "# Тем, кто ничего не заказал, будут соответствовать нули. Это нужно, чтобы подготовить выборки к проверке критерием Манна-Уитни.\n",
    "# Переменная sampleA должна состоять из двух частей:\n",
    "# список с количеством заказов для каждого из пользователей: ordersByUsersA['orders'];\n",
    "# нули для пользователей, которые ничего не заказывали. \n",
    "# Их количество равно разнице между суммой посетителей и количеством записей о заказах: data['visitorsPerDateA'].sum() - len(ordersByUsersA['orders']). \n",
    "# Создадим объект pd.Series нужной длины:\n",
    "\n",
    "pd.Series(0, index=np.arange(data['visitorsPerDateA'].sum() - len(ordersByUsersA['orders'])), name='orders')\n",
    "\n",
    "[ordersByUsersA['orders'],pd.Series(0, index=np.arange(data['visitorsPerDateA'].sum() - len(ordersByUsersA['orders'])), name='orders')]\n",
    "\n",
    "sampleA = pd.concat([ordersByUsersA['orders'],pd.Series(0, index=np.arange(data['visitorsPerDateA'].sum() - len(ordersByUsersA['orders'])), name='orders')],axis=0)\n",
    "\n",
    "sampleB = pd.concat([ordersByUsersB['orders'],pd.Series(0, index=np.arange(data['visitorsPerDateB'].sum() - len(ordersByUsersB['orders'])), name='orders')],axis=0)\n",
    "\n",
    "\n",
    "# Число элементов sampleA — это количество пользователей, сумма всех элементов — количество заказов. \n",
    "# Чтобы получить среднее число заказов на пользователя, поделим сумму заказов на число пользователей\n",
    "# Найдём среднее в выборке sampleA методом mean(). Аналогично найдём среднее группы B: SampleB.mean().\n",
    "\n",
    "ordersByUsersA = (\n",
    "    orders[orders['group'] == 'A']\n",
    "    .groupby('visitorId', as_index=False)\n",
    "    .agg({'transactionId': pd.Series.nunique})\n",
    ")\n",
    "ordersByUsersA.columns = ['userId', 'orders']\n",
    "\n",
    "ordersByUsersB = (\n",
    "    orders[orders['group'] == 'B']\n",
    "    .groupby('visitorId', as_index=False)\n",
    "    .agg({'transactionId': pd.Series.nunique})\n",
    ")\n",
    "ordersByUsersB.columns = ['userId', 'orders']\n",
    "\n",
    "\n",
    "sampleA = pd.concat(\n",
    "    [\n",
    "        ordersByUsersA['orders'],\n",
    "        pd.Series(\n",
    "            0,\n",
    "            index=np.arange(\n",
    "                data['visitorsPerDateA'].sum() - len(ordersByUsersA['orders'])\n",
    "            ),\n",
    "            name='orders',\n",
    "        ),\n",
    "    ],\n",
    "    axis=0,\n",
    ")\n",
    "\n",
    "sampleB = pd.concat(\n",
    "    [\n",
    "        ordersByUsersB['orders'],\n",
    "        pd.Series(\n",
    "            0,\n",
    "            index=np.arange(\n",
    "                data['visitorsPerDateB'].sum() - len(ordersByUsersB['orders'])\n",
    "            ),\n",
    "            name='orders',\n",
    "        ),\n",
    "    ],\n",
    "    axis=0,\n",
    ")\n",
    "\n",
    "# Применим статистический критерий Манна-Уитни к полученным выборкам \n",
    "# Выведем относительный прирост среднего числа заказов группы B: среднее число заказов группы B / среднее число заказов группы A - 1\n",
    "print(\"{0:.5f}\".format(stats.mannwhitneyu(sampleA, sampleB)[1]))\n",
    "\n",
    "print(\"{0:.3f}\".format(sampleB.mean() / sampleA.mean() - 1))\n"
   ]
  },
  {
   "cell_type": "markdown",
   "metadata": {},
   "source": [
    "Первое число 0,017 (P-value) меньше критического уровня статистической значимости alpha = 0,05. У нас есть основания отвергнуть нулевую гипотезу о том, что различий в среднем количестве заказов между группами нет. Анализ \"сырых\" данных говорит о том, что относительный прирост среднего группы B к среднему количеству заказов группы А равен 13,8%."
   ]
  },
  {
   "cell_type": "markdown",
   "metadata": {},
   "source": [
    "**11. Посчитайте статистическую значимость различий в среднем чеке заказа между группами по «сырым» данным. Сделайте выводы и предположения.**"
   ]
  },
  {
   "cell_type": "markdown",
   "metadata": {},
   "source": [
    "Сформулируем гипотезы. H0: различий в среднем чеке заказа между группами по \"сырым\" данным нет. H1: различия в среднем чеке между группами по \"сырым\" данным есть. \n",
    "\n",
    "Здесь и далее используемый критический уровень статистической значимости alpha=0,05"
   ]
  },
  {
   "cell_type": "code",
   "execution_count": 24,
   "metadata": {},
   "outputs": [
    {
     "name": "stdout",
     "output_type": "stream",
     "text": [
      "0.729\n",
      "0.259\n"
     ]
    }
   ],
   "source": [
    "print('{0:.3f}'.format(stats.mannwhitneyu(orders[orders['group']=='A']['revenue'], orders[orders['group']=='B']['revenue'])[1]))\n",
    "print('{0:.3f}'.format(orders[orders['group']=='B']['revenue'].mean()/orders[orders['group']=='A']['revenue'].mean()-1))"
   ]
  },
  {
   "cell_type": "markdown",
   "metadata": {},
   "source": [
    "Первое число 0,73 (P-value) больше критического уровня статистической значимости alpha = 0,05. Нет оснований отвергнуть нулевую гипотезу о том, что различий в среднем чеке заказа между группами по «сырым» данным нет. Относительное различие среднего чека между сегментами 25,9% в пользу сегмента В. "
   ]
  },
  {
   "cell_type": "markdown",
   "metadata": {},
   "source": [
    "**12. Посчитайте статистическую значимость различий в среднем количестве заказов на посетителя между группами по «очищенным» данным. Сделайте выводы и предположения.**"
   ]
  },
  {
   "cell_type": "markdown",
   "metadata": {},
   "source": [
    "Ранее были выбраны следующие верхние границы для работы с аномальными данными: 4 заказа на одного пользователя и сумма заказа 58 233."
   ]
  },
  {
   "cell_type": "markdown",
   "metadata": {},
   "source": [
    "Сформулируем гипотезы. H0: различий в среднем количестве заказов на посетителя между группами по \"очищенным\" данным нет. H1: различия в среднем между группами по \"очищенным\" данным есть. \n",
    "\n",
    "Здесь и далее используемый критический уровень статистической значимости alpha=0,05"
   ]
  },
  {
   "cell_type": "code",
   "execution_count": 25,
   "metadata": {},
   "outputs": [
    {
     "data": {
      "text/plain": [
       "15"
      ]
     },
     "execution_count": 25,
     "metadata": {},
     "output_type": "execute_result"
    }
   ],
   "source": [
    "# Сделаем срезы пользователей с числом заказов больше 4 — usersWithManyOrders и пользователей, \n",
    "# совершивших заказы дороже 58 233 — usersWithExpensiveOrders. \n",
    "# Объединим их в таблице abnormalUsers, удалив дубликаты и сортируя по возрастанию. \n",
    "\n",
    "usersWithManyOrders = pd.concat(\n",
    "    [\n",
    "        ordersByUsersA[ordersByUsersA['orders'] > 4]['userId'],\n",
    "        ordersByUsersB[ordersByUsersB['orders'] > 4]['userId'],\n",
    "    ],\n",
    "    axis=0,\n",
    ")\n",
    "usersWithExpensiveOrders = orders[orders['revenue'] > 58233]['visitorId']\n",
    "abnormalUsers = (\n",
    "    pd.concat([usersWithManyOrders, usersWithExpensiveOrders], axis=0)\n",
    "    .drop_duplicates()\n",
    "    .sort_values()\n",
    ")\n",
    "len(abnormalUsers)"
   ]
  },
  {
   "cell_type": "markdown",
   "metadata": {},
   "source": [
    "У нас 15 \"аномальных\" пользователей"
   ]
  },
  {
   "cell_type": "code",
   "execution_count": 26,
   "metadata": {},
   "outputs": [
    {
     "name": "stdout",
     "output_type": "stream",
     "text": [
      "0.01438\n",
      "0.153\n"
     ]
    }
   ],
   "source": [
    "# Посчитаем статистическую значимость различия среднего количества заказов после удаления аномальных пользователей.\n",
    "# Создадим переменные sampleAFiltered и sampleBFiltered, в которых сохраним очищенные данные о заказах, не включая аномальных пользователей. \n",
    "# Затем выведем p-value для сравнения среднего между очищенными группами. \n",
    "# Округлим p-value, выведем относительный прирост среднего очищенной группы B.\n",
    "\n",
    "sampleAFiltered = pd.concat(\n",
    "    [\n",
    "        ordersByUsersA[\n",
    "            np.logical_not(ordersByUsersA['userId'].isin(abnormalUsers))\n",
    "        ]['orders'],\n",
    "        pd.Series(\n",
    "            0,\n",
    "            index=np.arange(\n",
    "                data['visitorsPerDateA'].sum() - len(ordersByUsersA['orders'])\n",
    "            ),\n",
    "            name='orders',\n",
    "        ),\n",
    "    ],\n",
    "    axis=0,\n",
    ")\n",
    "\n",
    "sampleBFiltered = pd.concat(\n",
    "    [\n",
    "        ordersByUsersB[\n",
    "            np.logical_not(ordersByUsersB['userId'].isin(abnormalUsers))\n",
    "        ]['orders'],\n",
    "        pd.Series(\n",
    "            0,\n",
    "            index=np.arange(\n",
    "                data['visitorsPerDateB'].sum() - len(ordersByUsersB['orders'])\n",
    "            ),\n",
    "            name='orders',\n",
    "        ),\n",
    "    ],\n",
    "    axis=0,\n",
    ")\n",
    "print('{0:.5f}'.format(stats.mannwhitneyu(sampleAFiltered, sampleBFiltered)[1]))\n",
    "print('{0:.3f}'.format(sampleBFiltered.mean()/sampleAFiltered.mean()-1))"
   ]
  },
  {
   "cell_type": "markdown",
   "metadata": {},
   "source": [
    "Первое число 0,014 (P-value) меньше критического уровня статистической значимости alpha = 0,05. Есть основания отвергнуть нулевую гипотезу о том, что различий в среднем количестве заказов на посетителя между группами по «очищенным» данным нет. Относительное различие  среднего количества заказов на посетителя между сегментами В по отношению к сегменту А составило 15,3%. "
   ]
  },
  {
   "cell_type": "markdown",
   "metadata": {},
   "source": [
    "**13. Посчитайте статистическую значимость различий в среднем чеке заказа между группами по «очищенным» данным. Сделайте выводы и предположения.**"
   ]
  },
  {
   "cell_type": "markdown",
   "metadata": {},
   "source": [
    "Сформулируем гипотезы. H0: различий в среднем чеке заказа между группами по \"очищенным\" данным нет. H1: различия в среднем чеке между группами по \"очищенным\" данным есть. \n",
    "Здесь и далее используемый критический уровень статистической значимости alpha=0,05"
   ]
  },
  {
   "cell_type": "code",
   "execution_count": 27,
   "metadata": {},
   "outputs": [
    {
     "name": "stdout",
     "output_type": "stream",
     "text": [
      "0.851\n",
      "-0.006\n"
     ]
    }
   ],
   "source": [
    "# Выведем p-value для сравнения средних чеков между очищенными группами. \n",
    "# Округлим p-value, выведем относительный прирост среднего чека очищенной группы B.\n",
    "\n",
    "print(\n",
    "    '{0:.3f}'.format(\n",
    "        stats.mannwhitneyu(\n",
    "            orders[\n",
    "                np.logical_and(\n",
    "                    orders['group'] == 'A',\n",
    "                    np.logical_not(orders['visitorId'].isin(abnormalUsers)),\n",
    "                )\n",
    "            ]['revenue'],\n",
    "            orders[\n",
    "                np.logical_and(\n",
    "                    orders['group'] == 'B',\n",
    "                    np.logical_not(orders['visitorId'].isin(abnormalUsers)),\n",
    "                )\n",
    "            ]['revenue'],\n",
    "        )[1]\n",
    "    )\n",
    ")\n",
    "\n",
    "print(\n",
    "    \"{0:.3f}\".format(\n",
    "        orders[\n",
    "            np.logical_and(\n",
    "                orders['group'] == 'B',\n",
    "                np.logical_not(orders['visitorId'].isin(abnormalUsers)),\n",
    "            )\n",
    "        ]['revenue'].mean()\n",
    "        / orders[\n",
    "            np.logical_and(\n",
    "                orders['group'] == 'A',\n",
    "                np.logical_not(orders['visitorId'].isin(abnormalUsers)),\n",
    "            )\n",
    "        ]['revenue'].mean()\n",
    "        - 1\n",
    "    )\n",
    ")"
   ]
  },
  {
   "cell_type": "markdown",
   "metadata": {},
   "source": [
    "P-value больше критического уровня статистической значимости alpha = 0,05. Нет оснований отвергнуть нулевую гипотезу о том, что различий в среднем чеке заказа между группами по «очищенным» данным нет. Относительное различие среднего чека между сегментами В по отношению к сегменту А ниже на 0,6%. "
   ]
  },
  {
   "cell_type": "markdown",
   "metadata": {},
   "source": [
    "**14. Примите решение по результатам теста и объясните его. Варианты решений:**\n",
    "1. Остановить тест, зафиксировать победу одной из групп.\n",
    "2. Остановить тест, зафиксировать отсутствие различий между группами.\n",
    "3. Продолжить тест.\n"
   ]
  },
  {
   "cell_type": "markdown",
   "metadata": {},
   "source": [
    "При анализе \"очищенных\" данных относительное различие среднего чека между сегментами В по отношению к сегменту А ниже на 1,4%. При аналогичном анализе по \"сырым\" данным относительное различие среднего чека между сегментами 25,9% в пользу сегмента В. Проверив гипотезы, выяснилось, что по сырым данным нет статистически значимого различия по среднему чеку между группами. После удаления аномалий статистически значимого различия также нет.\n",
    "\n",
    "Относительное различие среднего количества заказов на посетителя между сегментами В по отношению к сегменту А составило 15,1% по \"очищенным\" данным. Анализ \"сырых\" данных говорит о том, что относительный прирост среднего группы B к среднему количеству заказов группы А равен 13,8%. Есть статистически значимое различие по среднему количеству заказов между группами как по сырым данным, так и после фильтрации аномалий. \n",
    "\n",
    "Вследствие того, что есть статистически значимое различие по среднему количеству заказов между группами как по сырым данным, так и после фильтрации аномалий, то можно утверждать, что результаты группы B лучше группы А.\n",
    "\n",
    "Предлагается остановить тест, признать его успешным. "
   ]
  },
  {
   "cell_type": "markdown",
   "metadata": {},
   "source": [
    "# Вывод"
   ]
  },
  {
   "cell_type": "markdown",
   "metadata": {},
   "source": [
    "Целью данного проекта являлся анализ гипотез, подготовленных аналитиками и отделом маркетинга для увеличения выручки крупного интернет-магазина. Чтобы максимизировать ожидаемое улучшение ключевых метрик бизнеса (в данном случае выручку), сформулированные гипотезы необходимо было приоритизировать, а также провести A/B-тест, чтобы точно измерить эффект от внедрения изменения.\n",
    "\n",
    "На Шаге 1 мы изучили 3 датасета о гипотезах, а также заказах и посещениях, которые мы использовали для осуществления A/В теста. У нас было 9 уникальных гипотез, 1197 уникальных идентификаторов заказа и 1031 уникальных идентификаторов пользователей. Данные предоставлены за август 2019 года. Осуществлена предобработка: полностью повторяющиеся строки отсутствовали, формат столбцов `date` был изменен.\n",
    "\n",
    "Затем на Шаге 2 мы осуществили приоритезацию гипотез. Применили фреймворк ICE, RICE для приоритизации гипотез. Наиболее перспективные гипотезы по ICE: 8,0,7. Наиболее перспективные гипотезы по RICE: 7, 2, 0, 6. Приоритизация гипотез при применении RICE вместо ICE изменилась. Возможная причина - показатель количества пользователей, который мы учитываем при приоритезации методом RICE. Например, у гипотезы 7 этот показатель выше (Reach=10), чем у гипотезы 8 (Reach=1).\n",
    "\n",
    "На Шаге 3 быд проведен А/В тест. Были построены графики кумулятивной выручки по группам и кумулятивного среднего чека по группам. Что касается кумулятивной выручки, то в начале исследуемого периода сегмент B и A были наравных. Затем сегмент B \"вырвался\" вперед и продолжал лидировать весь остаток теста. Кумулятивное значение среднего чека колебалось в первой половине периода для обеих групп. Во второй половине периода среднее значение по группе А было более стабильным. Оба результата необходимо было проверить на предмет наличия аномалий, которые могли бы объяснить резкие колебания на графиках.\n",
    "\n",
    "После были построены графики относительного изменения кумулятивного среднего чека группы B к группе A, кумулятивного среднего количества заказов на посетителя по группам, относительного изменения кумулятивного среднего количества заказов на посетителя группы B к группе A. \n",
    "\n",
    "При изучении относительного изменения кумулятивного среднего чека группы B к группе A были заметны резкие колебания в середине месяца. Возможно, тогда и были совершены аномальньные заказы. Колебания кумулятивного среднего количества заказов на посетителя по группам были от 3 до чуть менее 4%. Визуализировав относительное изменение кумулятивного среднего количества заказов на посетителя группы B к группе A, стало видно, что среднее количество заказов группы В лидировала почти с начала теста и находилась примерно на уровне 20% прироста относительно группы А к середине месяца. Затем уровень немного опустился до уровня 10-15%.\n",
    "\n",
    "На следующем этапе был построен точечный график количества заказов по пользователям. Удалось выяснить, что в основном пользователи совершали по 1 заказу. Также популярны были объемы заказов в размере 2-5. Их точная доля ясна не была. Необходимо было понять, стоит ли считать их аномалиями или нет. Для этого мы посчитали выборочные перцентили количества и стоимости заказов на одного пользователя, а также выбрали границу для определения аномальных заказов. Были выбраны следующие верхние границы для работы с аномальными данными: 4 заказа на одного пользователя и сумма заказа 58 233.\n",
    "\n",
    "Были сформулированы гипотезы. H0: различий в среднем количестве заказов на посетителя между группами по \"сырым\" данным нет. H1: различия в среднем между группами по \"сырым\" данным есть. Аналогичные гипотезы были сформулированы для \"очищенных\" данных. По результатам А/В теста было установлено, что есть статистически значимое различие по среднему количеству заказов между группами как по сырым данным, так и после фильтрации аномалий. Можно утверждать, что результаты группы B лучше группы А. Относительное различие среднего количества заказов на посетителя между сегментами В по отношению к сегменту А составило 15,1% по \"очищенным\" данным. Анализ \"сырых\" данных говорит о том, что относительный прирост среднего группы B к среднему количеству заказов группы А равен 13,8%."
   ]
  }
 ],
 "metadata": {
  "ExecuteTimeLog": [
   {
    "duration": 1305,
    "start_time": "2023-07-16T18:37:55.403Z"
   },
   {
    "duration": 1207,
    "start_time": "2023-07-16T19:35:38.183Z"
   },
   {
    "duration": 62,
    "start_time": "2023-07-16T19:35:39.846Z"
   },
   {
    "duration": 223,
    "start_time": "2023-07-16T19:36:46.126Z"
   },
   {
    "duration": 12,
    "start_time": "2023-07-16T19:40:13.938Z"
   },
   {
    "duration": 18,
    "start_time": "2023-07-16T19:40:32.940Z"
   },
   {
    "duration": 35,
    "start_time": "2023-07-16T19:41:00.358Z"
   },
   {
    "duration": 11,
    "start_time": "2023-07-16T19:42:40.557Z"
   },
   {
    "duration": 11,
    "start_time": "2023-07-16T19:42:47.064Z"
   },
   {
    "duration": 13,
    "start_time": "2023-07-16T19:43:00.118Z"
   },
   {
    "duration": 8,
    "start_time": "2023-07-16T19:43:11.840Z"
   },
   {
    "duration": 9,
    "start_time": "2023-07-16T19:47:57.314Z"
   },
   {
    "duration": 22,
    "start_time": "2023-07-16T19:48:45.607Z"
   },
   {
    "duration": 7,
    "start_time": "2023-07-16T19:51:03.901Z"
   },
   {
    "duration": 11,
    "start_time": "2023-07-16T19:51:27.180Z"
   },
   {
    "duration": 9,
    "start_time": "2023-07-16T19:51:44.414Z"
   },
   {
    "duration": 12,
    "start_time": "2023-07-16T19:52:11.252Z"
   },
   {
    "duration": 8,
    "start_time": "2023-07-16T19:52:23.428Z"
   },
   {
    "duration": 10,
    "start_time": "2023-07-16T19:52:34.371Z"
   },
   {
    "duration": 8,
    "start_time": "2023-07-16T19:52:44.865Z"
   },
   {
    "duration": 9,
    "start_time": "2023-07-16T19:52:54.292Z"
   },
   {
    "duration": 5,
    "start_time": "2023-07-16T19:52:58.984Z"
   },
   {
    "duration": 12,
    "start_time": "2023-07-16T19:53:05.677Z"
   },
   {
    "duration": 7,
    "start_time": "2023-07-16T19:54:14.769Z"
   },
   {
    "duration": 6,
    "start_time": "2023-07-16T19:55:00.451Z"
   },
   {
    "duration": 8,
    "start_time": "2023-07-16T19:55:43.292Z"
   },
   {
    "duration": 8,
    "start_time": "2023-07-16T19:57:09.706Z"
   },
   {
    "duration": 8,
    "start_time": "2023-07-16T19:57:58.400Z"
   },
   {
    "duration": 8,
    "start_time": "2023-07-16T19:58:03.093Z"
   },
   {
    "duration": 9,
    "start_time": "2023-07-16T19:58:58.208Z"
   },
   {
    "duration": 252,
    "start_time": "2023-07-16T20:00:44.291Z"
   },
   {
    "duration": 126,
    "start_time": "2023-07-17T17:29:10.215Z"
   },
   {
    "duration": 2027,
    "start_time": "2023-07-17T17:29:24.842Z"
   },
   {
    "duration": 522,
    "start_time": "2023-07-17T17:29:26.871Z"
   },
   {
    "duration": 52,
    "start_time": "2023-07-17T17:29:27.405Z"
   },
   {
    "duration": 131,
    "start_time": "2023-07-17T17:29:27.465Z"
   },
   {
    "duration": 196,
    "start_time": "2023-07-17T17:29:27.605Z"
   },
   {
    "duration": 73,
    "start_time": "2023-07-17T17:29:27.804Z"
   },
   {
    "duration": 153,
    "start_time": "2023-07-17T17:29:27.880Z"
   },
   {
    "duration": 3678,
    "start_time": "2023-07-17T17:29:28.035Z"
   },
   {
    "duration": 6,
    "start_time": "2023-07-17T17:29:45.174Z"
   },
   {
    "duration": 30,
    "start_time": "2023-07-17T17:30:00.147Z"
   },
   {
    "duration": 14,
    "start_time": "2023-07-17T17:30:21.055Z"
   },
   {
    "duration": 27,
    "start_time": "2023-07-17T17:46:11.170Z"
   },
   {
    "duration": 42,
    "start_time": "2023-07-17T17:46:23.807Z"
   },
   {
    "duration": 7,
    "start_time": "2023-07-17T17:46:38.588Z"
   },
   {
    "duration": 26,
    "start_time": "2023-07-17T17:46:59.259Z"
   },
   {
    "duration": 28,
    "start_time": "2023-07-17T17:47:08.565Z"
   },
   {
    "duration": 7,
    "start_time": "2023-07-17T17:52:05.986Z"
   },
   {
    "duration": 9,
    "start_time": "2023-07-17T17:53:41.120Z"
   },
   {
    "duration": 42,
    "start_time": "2023-07-17T17:53:53.639Z"
   },
   {
    "duration": 38,
    "start_time": "2023-07-17T17:54:01.351Z"
   },
   {
    "duration": 32,
    "start_time": "2023-07-17T17:54:21.009Z"
   },
   {
    "duration": 36,
    "start_time": "2023-07-17T18:00:47.227Z"
   },
   {
    "duration": 24,
    "start_time": "2023-07-17T18:00:50.891Z"
   },
   {
    "duration": 14,
    "start_time": "2023-07-17T18:01:02.553Z"
   },
   {
    "duration": 32,
    "start_time": "2023-07-17T18:01:26.757Z"
   },
   {
    "duration": 30,
    "start_time": "2023-07-17T18:01:31.347Z"
   },
   {
    "duration": 18,
    "start_time": "2023-07-17T18:01:46.590Z"
   },
   {
    "duration": 9,
    "start_time": "2023-07-17T18:01:52.110Z"
   },
   {
    "duration": 17,
    "start_time": "2023-07-17T18:22:05.724Z"
   },
   {
    "duration": 363,
    "start_time": "2023-07-17T18:24:17.894Z"
   },
   {
    "duration": 262,
    "start_time": "2023-07-17T18:26:41.273Z"
   },
   {
    "duration": 331,
    "start_time": "2023-07-17T18:29:01.970Z"
   },
   {
    "duration": 333,
    "start_time": "2023-07-17T18:32:17.260Z"
   },
   {
    "duration": 451,
    "start_time": "2023-07-17T18:39:42.095Z"
   },
   {
    "duration": 834,
    "start_time": "2023-07-17T18:44:06.211Z"
   },
   {
    "duration": 704,
    "start_time": "2023-07-17T18:44:57.410Z"
   },
   {
    "duration": 646,
    "start_time": "2023-07-17T18:45:10.387Z"
   },
   {
    "duration": 570,
    "start_time": "2023-07-17T18:45:17.362Z"
   },
   {
    "duration": 871,
    "start_time": "2023-07-17T18:46:06.746Z"
   },
   {
    "duration": 687,
    "start_time": "2023-07-17T18:46:39.991Z"
   },
   {
    "duration": 237,
    "start_time": "2023-07-17T19:01:02.048Z"
   },
   {
    "duration": 293,
    "start_time": "2023-07-17T19:03:30.726Z"
   },
   {
    "duration": 457,
    "start_time": "2023-07-17T19:10:02.438Z"
   },
   {
    "duration": 578,
    "start_time": "2023-07-17T19:10:50.240Z"
   },
   {
    "duration": 488,
    "start_time": "2023-07-17T19:11:39.949Z"
   },
   {
    "duration": 706,
    "start_time": "2023-07-17T19:11:54.574Z"
   },
   {
    "duration": 895,
    "start_time": "2023-07-17T19:13:29.418Z"
   },
   {
    "duration": 622,
    "start_time": "2023-07-17T19:15:22.390Z"
   },
   {
    "duration": 649,
    "start_time": "2023-07-17T19:15:35.914Z"
   },
   {
    "duration": 593,
    "start_time": "2023-07-17T19:15:40.076Z"
   },
   {
    "duration": 623,
    "start_time": "2023-07-17T19:16:56.714Z"
   },
   {
    "duration": 615,
    "start_time": "2023-07-17T19:17:08.084Z"
   },
   {
    "duration": 78,
    "start_time": "2023-07-17T19:19:59.615Z"
   },
   {
    "duration": 4,
    "start_time": "2023-07-17T19:20:15.806Z"
   },
   {
    "duration": 134,
    "start_time": "2023-07-17T19:20:16.739Z"
   },
   {
    "duration": 27,
    "start_time": "2023-07-17T19:20:16.875Z"
   },
   {
    "duration": 10,
    "start_time": "2023-07-17T19:20:17.006Z"
   },
   {
    "duration": 23,
    "start_time": "2023-07-17T19:20:17.291Z"
   },
   {
    "duration": 9,
    "start_time": "2023-07-17T19:20:17.407Z"
   },
   {
    "duration": 13,
    "start_time": "2023-07-17T19:20:17.548Z"
   },
   {
    "duration": 14,
    "start_time": "2023-07-17T19:20:17.686Z"
   },
   {
    "duration": 24,
    "start_time": "2023-07-17T19:20:18.533Z"
   },
   {
    "duration": 16,
    "start_time": "2023-07-17T19:20:18.733Z"
   },
   {
    "duration": 19,
    "start_time": "2023-07-17T19:20:19.108Z"
   },
   {
    "duration": 10,
    "start_time": "2023-07-17T19:20:19.295Z"
   },
   {
    "duration": 666,
    "start_time": "2023-07-17T19:20:20.546Z"
   },
   {
    "duration": 41,
    "start_time": "2023-07-17T19:20:27.916Z"
   },
   {
    "duration": 1167,
    "start_time": "2023-07-17T19:20:46.606Z"
   },
   {
    "duration": 1036,
    "start_time": "2023-07-17T19:21:25.411Z"
   },
   {
    "duration": 1296,
    "start_time": "2023-07-17T19:21:32.098Z"
   },
   {
    "duration": 1127,
    "start_time": "2023-07-17T19:21:39.105Z"
   },
   {
    "duration": 1048,
    "start_time": "2023-07-17T19:21:44.699Z"
   },
   {
    "duration": 1266,
    "start_time": "2023-07-17T19:21:54.823Z"
   },
   {
    "duration": 307,
    "start_time": "2023-07-17T19:23:16.670Z"
   },
   {
    "duration": 281,
    "start_time": "2023-07-17T19:24:49.518Z"
   },
   {
    "duration": 332,
    "start_time": "2023-07-17T19:25:12.956Z"
   },
   {
    "duration": 312,
    "start_time": "2023-07-17T19:25:19.350Z"
   },
   {
    "duration": 426,
    "start_time": "2023-07-17T19:25:45.570Z"
   },
   {
    "duration": 259,
    "start_time": "2023-07-17T19:31:12.980Z"
   },
   {
    "duration": 190,
    "start_time": "2023-07-17T19:32:19.781Z"
   },
   {
    "duration": 222,
    "start_time": "2023-07-17T19:32:37.354Z"
   },
   {
    "duration": 188,
    "start_time": "2023-07-17T19:33:07.715Z"
   },
   {
    "duration": 113,
    "start_time": "2023-07-17T19:33:31.216Z"
   },
   {
    "duration": 113,
    "start_time": "2023-07-17T19:33:54.238Z"
   },
   {
    "duration": 218,
    "start_time": "2023-07-17T19:34:00.643Z"
   },
   {
    "duration": 197,
    "start_time": "2023-07-17T19:34:25.962Z"
   },
   {
    "duration": 388,
    "start_time": "2023-07-17T19:38:05.166Z"
   },
   {
    "duration": 341,
    "start_time": "2023-07-17T19:38:16.507Z"
   },
   {
    "duration": 293,
    "start_time": "2023-07-17T19:38:30.260Z"
   },
   {
    "duration": 302,
    "start_time": "2023-07-17T19:38:38.963Z"
   },
   {
    "duration": 324,
    "start_time": "2023-07-17T19:38:46.891Z"
   },
   {
    "duration": 222,
    "start_time": "2023-07-17T19:40:43.913Z"
   },
   {
    "duration": 205,
    "start_time": "2023-07-17T19:41:15.186Z"
   },
   {
    "duration": 226,
    "start_time": "2023-07-17T19:41:40.568Z"
   },
   {
    "duration": 335,
    "start_time": "2023-07-17T19:42:31.900Z"
   },
   {
    "duration": 226,
    "start_time": "2023-07-17T19:47:09.374Z"
   },
   {
    "duration": 170,
    "start_time": "2023-07-17T19:47:27.390Z"
   },
   {
    "duration": 239,
    "start_time": "2023-07-17T19:47:41.944Z"
   },
   {
    "duration": 329,
    "start_time": "2023-07-17T19:52:19.036Z"
   },
   {
    "duration": 295,
    "start_time": "2023-07-17T19:52:29.978Z"
   },
   {
    "duration": 187,
    "start_time": "2023-07-17T19:52:42.759Z"
   },
   {
    "duration": 175,
    "start_time": "2023-07-17T19:52:49.973Z"
   },
   {
    "duration": 342,
    "start_time": "2023-07-17T19:53:11.455Z"
   },
   {
    "duration": 431,
    "start_time": "2023-07-17T19:53:17.461Z"
   },
   {
    "duration": 351,
    "start_time": "2023-07-17T19:55:50.802Z"
   },
   {
    "duration": 304,
    "start_time": "2023-07-17T19:56:12.555Z"
   },
   {
    "duration": 1523,
    "start_time": "2023-07-18T16:38:45.779Z"
   },
   {
    "duration": 258,
    "start_time": "2023-07-18T16:38:47.304Z"
   },
   {
    "duration": 25,
    "start_time": "2023-07-18T16:38:47.564Z"
   },
   {
    "duration": 24,
    "start_time": "2023-07-18T16:38:47.592Z"
   },
   {
    "duration": 49,
    "start_time": "2023-07-18T16:38:47.619Z"
   },
   {
    "duration": 35,
    "start_time": "2023-07-18T16:38:47.670Z"
   },
   {
    "duration": 46,
    "start_time": "2023-07-18T16:38:47.706Z"
   },
   {
    "duration": 31,
    "start_time": "2023-07-18T16:38:47.754Z"
   },
   {
    "duration": 12,
    "start_time": "2023-07-18T16:38:47.871Z"
   },
   {
    "duration": 12,
    "start_time": "2023-07-18T16:38:47.988Z"
   },
   {
    "duration": 22,
    "start_time": "2023-07-18T16:38:48.302Z"
   },
   {
    "duration": 10,
    "start_time": "2023-07-18T16:38:48.475Z"
   },
   {
    "duration": 660,
    "start_time": "2023-07-18T16:38:49.333Z"
   },
   {
    "duration": 276,
    "start_time": "2023-07-18T16:38:49.996Z"
   },
   {
    "duration": 351,
    "start_time": "2023-07-18T16:38:50.537Z"
   },
   {
    "duration": 259,
    "start_time": "2023-07-18T16:38:51.428Z"
   },
   {
    "duration": 260,
    "start_time": "2023-07-18T16:38:52.188Z"
   },
   {
    "duration": 325,
    "start_time": "2023-07-18T16:38:53.246Z"
   },
   {
    "duration": 115,
    "start_time": "2023-07-18T17:01:40.762Z"
   },
   {
    "duration": 21,
    "start_time": "2023-07-18T17:02:05.198Z"
   },
   {
    "duration": 7,
    "start_time": "2023-07-18T17:02:18.975Z"
   },
   {
    "duration": 225,
    "start_time": "2023-07-18T17:03:48.748Z"
   },
   {
    "duration": 146,
    "start_time": "2023-07-18T17:17:00.250Z"
   },
   {
    "duration": 6,
    "start_time": "2023-07-18T17:31:55.938Z"
   },
   {
    "duration": 4,
    "start_time": "2023-07-18T17:35:03.575Z"
   },
   {
    "duration": 127,
    "start_time": "2023-07-18T17:45:36.519Z"
   },
   {
    "duration": 130,
    "start_time": "2023-07-18T17:45:54.318Z"
   },
   {
    "duration": 9,
    "start_time": "2023-07-18T17:46:43.837Z"
   },
   {
    "duration": 140,
    "start_time": "2023-07-18T17:49:32.595Z"
   },
   {
    "duration": 154,
    "start_time": "2023-07-18T17:50:53.684Z"
   },
   {
    "duration": 9,
    "start_time": "2023-07-18T18:05:52.457Z"
   },
   {
    "duration": 5,
    "start_time": "2023-07-18T18:05:58.867Z"
   },
   {
    "duration": 144,
    "start_time": "2023-07-18T18:07:27.225Z"
   },
   {
    "duration": 151,
    "start_time": "2023-07-18T18:07:40.223Z"
   },
   {
    "duration": 158,
    "start_time": "2023-07-18T18:07:50.401Z"
   },
   {
    "duration": 90,
    "start_time": "2023-07-18T18:15:44.231Z"
   },
   {
    "duration": 15,
    "start_time": "2023-07-18T18:41:19.832Z"
   },
   {
    "duration": 18,
    "start_time": "2023-07-18T18:41:53.330Z"
   },
   {
    "duration": 75,
    "start_time": "2023-07-18T18:42:10.233Z"
   },
   {
    "duration": 188,
    "start_time": "2023-07-18T18:42:18.995Z"
   },
   {
    "duration": 148,
    "start_time": "2023-07-18T18:43:02.759Z"
   },
   {
    "duration": 1938,
    "start_time": "2023-07-18T18:43:25.626Z"
   },
   {
    "duration": 2014,
    "start_time": "2023-07-18T18:43:56.246Z"
   },
   {
    "duration": 3643,
    "start_time": "2023-07-18T18:45:03.135Z"
   },
   {
    "duration": 153,
    "start_time": "2023-07-18T18:46:29.529Z"
   },
   {
    "duration": 151,
    "start_time": "2023-07-18T18:47:19.233Z"
   },
   {
    "duration": 1899,
    "start_time": "2023-07-18T18:47:27.101Z"
   },
   {
    "duration": 149,
    "start_time": "2023-07-18T18:47:36.396Z"
   },
   {
    "duration": 1979,
    "start_time": "2023-07-18T18:47:43.826Z"
   },
   {
    "duration": 19,
    "start_time": "2023-07-18T18:48:31.518Z"
   },
   {
    "duration": 154,
    "start_time": "2023-07-18T18:55:57.672Z"
   },
   {
    "duration": 138,
    "start_time": "2023-07-18T18:59:16.160Z"
   },
   {
    "duration": 41,
    "start_time": "2023-07-18T19:01:09.338Z"
   },
   {
    "duration": 33,
    "start_time": "2023-07-18T19:01:29.937Z"
   },
   {
    "duration": 7,
    "start_time": "2023-07-18T19:02:56.399Z"
   },
   {
    "duration": 33,
    "start_time": "2023-07-18T19:03:31.937Z"
   },
   {
    "duration": 106,
    "start_time": "2023-07-18T19:06:22.426Z"
   },
   {
    "duration": 462,
    "start_time": "2023-07-18T19:06:58.326Z"
   },
   {
    "duration": 141,
    "start_time": "2023-07-18T19:07:16.243Z"
   },
   {
    "duration": 24,
    "start_time": "2023-07-18T19:08:25.880Z"
   },
   {
    "duration": 18,
    "start_time": "2023-07-18T19:08:49.823Z"
   },
   {
    "duration": 19,
    "start_time": "2023-07-18T19:08:57.933Z"
   },
   {
    "duration": 23,
    "start_time": "2023-07-18T19:09:01.158Z"
   },
   {
    "duration": 1659,
    "start_time": "2023-07-18T19:12:17.406Z"
   },
   {
    "duration": 23,
    "start_time": "2023-07-18T19:13:12.255Z"
   },
   {
    "duration": 1624,
    "start_time": "2023-07-18T19:13:21.446Z"
   },
   {
    "duration": 24,
    "start_time": "2023-07-18T19:18:10.878Z"
   },
   {
    "duration": 1301,
    "start_time": "2023-07-18T19:19:58.978Z"
   },
   {
    "duration": 85,
    "start_time": "2023-07-18T19:20:00.938Z"
   },
   {
    "duration": 27,
    "start_time": "2023-07-18T19:20:01.055Z"
   },
   {
    "duration": 13,
    "start_time": "2023-07-18T19:20:01.176Z"
   },
   {
    "duration": 22,
    "start_time": "2023-07-18T19:20:01.442Z"
   },
   {
    "duration": 10,
    "start_time": "2023-07-18T19:20:01.578Z"
   },
   {
    "duration": 12,
    "start_time": "2023-07-18T19:20:01.707Z"
   },
   {
    "duration": 8,
    "start_time": "2023-07-18T19:20:01.845Z"
   },
   {
    "duration": 13,
    "start_time": "2023-07-18T19:20:02.601Z"
   },
   {
    "duration": 11,
    "start_time": "2023-07-18T19:20:02.737Z"
   },
   {
    "duration": 13,
    "start_time": "2023-07-18T19:20:03.034Z"
   },
   {
    "duration": 10,
    "start_time": "2023-07-18T19:20:03.189Z"
   },
   {
    "duration": 569,
    "start_time": "2023-07-18T19:20:03.992Z"
   },
   {
    "duration": 221,
    "start_time": "2023-07-18T19:20:04.563Z"
   },
   {
    "duration": 331,
    "start_time": "2023-07-18T19:20:05.011Z"
   },
   {
    "duration": 221,
    "start_time": "2023-07-18T19:20:05.471Z"
   },
   {
    "duration": 191,
    "start_time": "2023-07-18T19:20:05.786Z"
   },
   {
    "duration": 343,
    "start_time": "2023-07-18T19:20:06.248Z"
   },
   {
    "duration": 151,
    "start_time": "2023-07-18T19:20:06.698Z"
   },
   {
    "duration": 5,
    "start_time": "2023-07-18T19:20:07.114Z"
   },
   {
    "duration": 251,
    "start_time": "2023-07-18T19:20:07.568Z"
   },
   {
    "duration": 5,
    "start_time": "2023-07-18T19:20:07.973Z"
   },
   {
    "duration": 232,
    "start_time": "2023-07-18T19:20:08.706Z"
   },
   {
    "duration": 179,
    "start_time": "2023-07-18T19:21:43.268Z"
   },
   {
    "duration": 486,
    "start_time": "2023-07-18T19:21:56.679Z"
   },
   {
    "duration": 3,
    "start_time": "2023-07-18T19:22:38.040Z"
   },
   {
    "duration": 80,
    "start_time": "2023-07-18T19:22:38.833Z"
   },
   {
    "duration": 24,
    "start_time": "2023-07-18T19:22:38.928Z"
   },
   {
    "duration": 8,
    "start_time": "2023-07-18T19:22:39.117Z"
   },
   {
    "duration": 21,
    "start_time": "2023-07-18T19:22:39.397Z"
   },
   {
    "duration": 10,
    "start_time": "2023-07-18T19:22:39.424Z"
   },
   {
    "duration": 8,
    "start_time": "2023-07-18T19:22:39.639Z"
   },
   {
    "duration": 6,
    "start_time": "2023-07-18T19:22:39.775Z"
   },
   {
    "duration": 11,
    "start_time": "2023-07-18T19:22:40.468Z"
   },
   {
    "duration": 10,
    "start_time": "2023-07-18T19:22:40.490Z"
   },
   {
    "duration": 12,
    "start_time": "2023-07-18T19:22:40.830Z"
   },
   {
    "duration": 10,
    "start_time": "2023-07-18T19:22:41.010Z"
   },
   {
    "duration": 501,
    "start_time": "2023-07-18T19:22:41.677Z"
   },
   {
    "duration": 222,
    "start_time": "2023-07-18T19:22:42.180Z"
   },
   {
    "duration": 296,
    "start_time": "2023-07-18T19:22:42.525Z"
   },
   {
    "duration": 209,
    "start_time": "2023-07-18T19:22:42.963Z"
   },
   {
    "duration": 189,
    "start_time": "2023-07-18T19:22:43.263Z"
   },
   {
    "duration": 342,
    "start_time": "2023-07-18T19:22:43.697Z"
   },
   {
    "duration": 140,
    "start_time": "2023-07-18T19:22:44.199Z"
   },
   {
    "duration": 4,
    "start_time": "2023-07-18T19:22:44.671Z"
   },
   {
    "duration": 162,
    "start_time": "2023-07-18T19:22:45.130Z"
   },
   {
    "duration": 6,
    "start_time": "2023-07-18T19:22:45.599Z"
   },
   {
    "duration": 560,
    "start_time": "2023-07-18T19:22:46.423Z"
   },
   {
    "duration": 473,
    "start_time": "2023-07-18T19:28:22.821Z"
   },
   {
    "duration": 529,
    "start_time": "2023-07-18T19:28:41.980Z"
   },
   {
    "duration": 486,
    "start_time": "2023-07-18T19:32:11.575Z"
   },
   {
    "duration": 490,
    "start_time": "2023-07-18T19:41:56.447Z"
   },
   {
    "duration": 496,
    "start_time": "2023-07-18T20:06:11.109Z"
   },
   {
    "duration": 12,
    "start_time": "2023-07-18T20:06:33.023Z"
   },
   {
    "duration": 1439,
    "start_time": "2023-07-19T16:28:01.599Z"
   },
   {
    "duration": 202,
    "start_time": "2023-07-19T16:28:03.040Z"
   },
   {
    "duration": 31,
    "start_time": "2023-07-19T16:28:03.244Z"
   },
   {
    "duration": 12,
    "start_time": "2023-07-19T16:28:03.278Z"
   },
   {
    "duration": 26,
    "start_time": "2023-07-19T16:28:03.292Z"
   },
   {
    "duration": 13,
    "start_time": "2023-07-19T16:28:03.320Z"
   },
   {
    "duration": 21,
    "start_time": "2023-07-19T16:28:03.334Z"
   },
   {
    "duration": 18,
    "start_time": "2023-07-19T16:28:03.357Z"
   },
   {
    "duration": 12,
    "start_time": "2023-07-19T16:28:04.133Z"
   },
   {
    "duration": 10,
    "start_time": "2023-07-19T16:28:04.333Z"
   },
   {
    "duration": 11,
    "start_time": "2023-07-19T16:28:04.714Z"
   },
   {
    "duration": 10,
    "start_time": "2023-07-19T16:28:04.894Z"
   },
   {
    "duration": 584,
    "start_time": "2023-07-19T16:28:05.755Z"
   },
   {
    "duration": 296,
    "start_time": "2023-07-19T16:28:06.341Z"
   },
   {
    "duration": 346,
    "start_time": "2023-07-19T16:28:06.791Z"
   },
   {
    "duration": 211,
    "start_time": "2023-07-19T16:28:07.315Z"
   },
   {
    "duration": 199,
    "start_time": "2023-07-19T16:28:07.672Z"
   },
   {
    "duration": 314,
    "start_time": "2023-07-19T16:28:08.198Z"
   },
   {
    "duration": 139,
    "start_time": "2023-07-19T16:28:08.745Z"
   },
   {
    "duration": 4,
    "start_time": "2023-07-19T16:28:09.614Z"
   },
   {
    "duration": 234,
    "start_time": "2023-07-19T16:28:10.189Z"
   },
   {
    "duration": 4,
    "start_time": "2023-07-19T16:28:10.734Z"
   },
   {
    "duration": 479,
    "start_time": "2023-07-19T16:28:11.733Z"
   },
   {
    "duration": 11,
    "start_time": "2023-07-19T16:28:13.136Z"
   },
   {
    "duration": 94,
    "start_time": "2023-07-19T16:28:13.492Z"
   },
   {
    "duration": 2515,
    "start_time": "2023-07-19T17:23:21.769Z"
   },
   {
    "duration": 3487,
    "start_time": "2023-07-19T17:23:44.918Z"
   },
   {
    "duration": 12,
    "start_time": "2023-07-19T17:24:52.879Z"
   },
   {
    "duration": 7,
    "start_time": "2023-07-19T17:31:15.907Z"
   },
   {
    "duration": 40,
    "start_time": "2023-07-19T17:31:35.485Z"
   },
   {
    "duration": 7,
    "start_time": "2023-07-19T17:36:39.830Z"
   },
   {
    "duration": 28,
    "start_time": "2023-07-19T17:36:40.742Z"
   },
   {
    "duration": 8,
    "start_time": "2023-07-19T17:37:46.167Z"
   },
   {
    "duration": 9,
    "start_time": "2023-07-19T17:39:47.253Z"
   },
   {
    "duration": 9,
    "start_time": "2023-07-19T17:39:55.544Z"
   },
   {
    "duration": 10,
    "start_time": "2023-07-19T17:40:24.157Z"
   },
   {
    "duration": 12,
    "start_time": "2023-07-19T17:43:08.624Z"
   },
   {
    "duration": 47,
    "start_time": "2023-07-19T17:43:51.649Z"
   },
   {
    "duration": 14,
    "start_time": "2023-07-19T17:51:23.499Z"
   },
   {
    "duration": 1219,
    "start_time": "2023-07-19T19:58:57.629Z"
   },
   {
    "duration": 189,
    "start_time": "2023-07-19T19:58:58.850Z"
   },
   {
    "duration": 24,
    "start_time": "2023-07-19T19:58:59.041Z"
   },
   {
    "duration": 13,
    "start_time": "2023-07-19T19:58:59.067Z"
   },
   {
    "duration": 24,
    "start_time": "2023-07-19T19:58:59.229Z"
   },
   {
    "duration": 8,
    "start_time": "2023-07-19T19:58:59.353Z"
   },
   {
    "duration": 12,
    "start_time": "2023-07-19T19:58:59.469Z"
   },
   {
    "duration": 7,
    "start_time": "2023-07-19T19:58:59.602Z"
   },
   {
    "duration": 21,
    "start_time": "2023-07-19T19:59:00.478Z"
   },
   {
    "duration": 22,
    "start_time": "2023-07-19T19:59:00.610Z"
   },
   {
    "duration": 12,
    "start_time": "2023-07-19T19:59:00.957Z"
   },
   {
    "duration": 11,
    "start_time": "2023-07-19T19:59:01.224Z"
   },
   {
    "duration": 702,
    "start_time": "2023-07-19T19:59:02.114Z"
   },
   {
    "duration": 236,
    "start_time": "2023-07-19T19:59:02.818Z"
   },
   {
    "duration": 376,
    "start_time": "2023-07-19T19:59:03.056Z"
   },
   {
    "duration": 263,
    "start_time": "2023-07-19T19:59:03.501Z"
   },
   {
    "duration": 237,
    "start_time": "2023-07-19T19:59:03.799Z"
   },
   {
    "duration": 374,
    "start_time": "2023-07-19T19:59:04.262Z"
   },
   {
    "duration": 163,
    "start_time": "2023-07-19T19:59:04.697Z"
   },
   {
    "duration": 6,
    "start_time": "2023-07-19T19:59:05.251Z"
   },
   {
    "duration": 257,
    "start_time": "2023-07-19T19:59:05.636Z"
   },
   {
    "duration": 5,
    "start_time": "2023-07-19T19:59:06.304Z"
   },
   {
    "duration": 551,
    "start_time": "2023-07-19T19:59:07.146Z"
   },
   {
    "duration": 11,
    "start_time": "2023-07-19T19:59:08.099Z"
   },
   {
    "duration": 11,
    "start_time": "2023-07-19T19:59:08.803Z"
   },
   {
    "duration": 28,
    "start_time": "2023-07-19T19:59:09.101Z"
   },
   {
    "duration": 14,
    "start_time": "2023-07-19T19:59:09.600Z"
   },
   {
    "duration": 1249,
    "start_time": "2023-07-20T14:35:44.426Z"
   },
   {
    "duration": 76,
    "start_time": "2023-07-20T14:35:45.677Z"
   },
   {
    "duration": 25,
    "start_time": "2023-07-20T14:35:45.754Z"
   },
   {
    "duration": 14,
    "start_time": "2023-07-20T14:35:45.781Z"
   },
   {
    "duration": 21,
    "start_time": "2023-07-20T14:35:45.796Z"
   },
   {
    "duration": 8,
    "start_time": "2023-07-20T14:35:45.818Z"
   },
   {
    "duration": 33,
    "start_time": "2023-07-20T14:35:45.827Z"
   },
   {
    "duration": 8,
    "start_time": "2023-07-20T14:35:45.861Z"
   },
   {
    "duration": 13,
    "start_time": "2023-07-20T14:35:45.870Z"
   },
   {
    "duration": 9,
    "start_time": "2023-07-20T14:35:45.885Z"
   },
   {
    "duration": 18,
    "start_time": "2023-07-20T14:35:45.896Z"
   },
   {
    "duration": 22,
    "start_time": "2023-07-20T14:35:45.915Z"
   },
   {
    "duration": 544,
    "start_time": "2023-07-20T14:35:45.951Z"
   },
   {
    "duration": 216,
    "start_time": "2023-07-20T14:35:46.497Z"
   },
   {
    "duration": 346,
    "start_time": "2023-07-20T14:35:46.715Z"
   },
   {
    "duration": 213,
    "start_time": "2023-07-20T14:35:47.062Z"
   },
   {
    "duration": 195,
    "start_time": "2023-07-20T14:35:47.277Z"
   },
   {
    "duration": 300,
    "start_time": "2023-07-20T14:35:47.474Z"
   },
   {
    "duration": 136,
    "start_time": "2023-07-20T14:35:47.776Z"
   },
   {
    "duration": 5,
    "start_time": "2023-07-20T14:35:47.914Z"
   },
   {
    "duration": 247,
    "start_time": "2023-07-20T14:35:47.920Z"
   },
   {
    "duration": 6,
    "start_time": "2023-07-20T14:35:48.168Z"
   },
   {
    "duration": 550,
    "start_time": "2023-07-20T14:35:48.175Z"
   },
   {
    "duration": 11,
    "start_time": "2023-07-20T14:35:48.727Z"
   },
   {
    "duration": 9,
    "start_time": "2023-07-20T14:35:48.752Z"
   },
   {
    "duration": 35,
    "start_time": "2023-07-20T14:35:48.762Z"
   },
   {
    "duration": 14,
    "start_time": "2023-07-20T14:35:48.798Z"
   },
   {
    "duration": 1278,
    "start_time": "2023-07-20T17:22:45.865Z"
   },
   {
    "duration": 247,
    "start_time": "2023-07-20T17:22:47.146Z"
   },
   {
    "duration": 35,
    "start_time": "2023-07-20T17:22:47.395Z"
   },
   {
    "duration": 11,
    "start_time": "2023-07-20T17:22:47.433Z"
   },
   {
    "duration": 21,
    "start_time": "2023-07-20T17:22:47.445Z"
   },
   {
    "duration": 9,
    "start_time": "2023-07-20T17:22:47.468Z"
   },
   {
    "duration": 19,
    "start_time": "2023-07-20T17:22:47.478Z"
   },
   {
    "duration": 33,
    "start_time": "2023-07-20T17:22:47.500Z"
   },
   {
    "duration": 12,
    "start_time": "2023-07-20T17:22:48.476Z"
   },
   {
    "duration": 10,
    "start_time": "2023-07-20T17:22:48.632Z"
   },
   {
    "duration": 12,
    "start_time": "2023-07-20T17:22:49.517Z"
   },
   {
    "duration": 10,
    "start_time": "2023-07-20T17:22:49.673Z"
   },
   {
    "duration": 508,
    "start_time": "2023-07-20T17:22:50.694Z"
   },
   {
    "duration": 191,
    "start_time": "2023-07-20T17:22:51.726Z"
   },
   {
    "duration": 330,
    "start_time": "2023-07-20T17:22:52.445Z"
   },
   {
    "duration": 211,
    "start_time": "2023-07-20T17:22:53.157Z"
   },
   {
    "duration": 230,
    "start_time": "2023-07-20T17:22:53.609Z"
   },
   {
    "duration": 380,
    "start_time": "2023-07-20T17:22:54.319Z"
   },
   {
    "duration": 127,
    "start_time": "2023-07-20T17:22:55.069Z"
   },
   {
    "duration": 5,
    "start_time": "2023-07-20T17:22:55.801Z"
   },
   {
    "duration": 207,
    "start_time": "2023-07-20T17:22:56.552Z"
   },
   {
    "duration": 5,
    "start_time": "2023-07-20T17:22:57.586Z"
   },
   {
    "duration": 452,
    "start_time": "2023-07-20T17:22:58.865Z"
   },
   {
    "duration": 9,
    "start_time": "2023-07-20T17:23:00.115Z"
   },
   {
    "duration": 10,
    "start_time": "2023-07-20T17:23:01.719Z"
   },
   {
    "duration": 34,
    "start_time": "2023-07-20T17:23:02.457Z"
   },
   {
    "duration": 15,
    "start_time": "2023-07-20T17:23:03.762Z"
   },
   {
    "duration": 553,
    "start_time": "2023-07-20T17:23:57.725Z"
   },
   {
    "duration": 636,
    "start_time": "2023-07-20T17:24:53.246Z"
   },
   {
    "duration": 498,
    "start_time": "2023-07-20T17:26:04.051Z"
   },
   {
    "duration": 579,
    "start_time": "2023-07-20T17:26:18.564Z"
   },
   {
    "duration": 585,
    "start_time": "2023-07-20T17:26:44.373Z"
   },
   {
    "duration": 488,
    "start_time": "2023-07-20T17:26:55.546Z"
   },
   {
    "duration": 202,
    "start_time": "2023-07-20T17:29:14.206Z"
   },
   {
    "duration": 194,
    "start_time": "2023-07-20T17:29:38.297Z"
   },
   {
    "duration": 191,
    "start_time": "2023-07-20T17:29:46.947Z"
   },
   {
    "duration": 285,
    "start_time": "2023-07-20T17:29:58.879Z"
   },
   {
    "duration": 228,
    "start_time": "2023-07-20T17:30:08.093Z"
   },
   {
    "duration": 309,
    "start_time": "2023-07-20T17:32:10.046Z"
   },
   {
    "duration": 281,
    "start_time": "2023-07-20T17:32:19.281Z"
   },
   {
    "duration": 97,
    "start_time": "2023-07-20T17:36:17.473Z"
   },
   {
    "duration": 575,
    "start_time": "2023-07-20T17:37:44.176Z"
   },
   {
    "duration": 575,
    "start_time": "2023-07-20T17:37:53.656Z"
   },
   {
    "duration": 505,
    "start_time": "2023-07-20T17:38:33.153Z"
   },
   {
    "duration": 453,
    "start_time": "2023-07-20T17:39:15.926Z"
   },
   {
    "duration": 469,
    "start_time": "2023-07-20T17:40:07.072Z"
   },
   {
    "duration": 222,
    "start_time": "2023-07-20T17:40:18.593Z"
   },
   {
    "duration": 380,
    "start_time": "2023-07-20T17:40:26.399Z"
   },
   {
    "duration": 231,
    "start_time": "2023-07-20T17:40:36.486Z"
   },
   {
    "duration": 4,
    "start_time": "2023-07-20T17:42:30.106Z"
   },
   {
    "duration": 14,
    "start_time": "2023-07-20T17:42:39.647Z"
   },
   {
    "duration": 129,
    "start_time": "2023-07-20T17:43:19.105Z"
   },
   {
    "duration": 189,
    "start_time": "2023-07-20T17:55:05.739Z"
   },
   {
    "duration": 363,
    "start_time": "2023-07-20T17:57:57.427Z"
   },
   {
    "duration": 9,
    "start_time": "2023-07-20T18:05:18.958Z"
   },
   {
    "duration": 100,
    "start_time": "2023-07-20T18:05:47.768Z"
   },
   {
    "duration": 28,
    "start_time": "2023-07-20T18:06:27.272Z"
   },
   {
    "duration": 13,
    "start_time": "2023-07-20T18:06:46.080Z"
   },
   {
    "duration": 13,
    "start_time": "2023-07-20T18:07:57.193Z"
   },
   {
    "duration": 17,
    "start_time": "2023-07-20T18:09:31.024Z"
   },
   {
    "duration": 11,
    "start_time": "2023-07-20T18:10:42.830Z"
   },
   {
    "duration": 235,
    "start_time": "2023-07-20T18:12:22.489Z"
   },
   {
    "duration": 245,
    "start_time": "2023-07-20T18:12:28.935Z"
   },
   {
    "duration": 282,
    "start_time": "2023-07-20T18:13:14.419Z"
   },
   {
    "duration": 387,
    "start_time": "2023-07-20T18:14:09.916Z"
   },
   {
    "duration": 313,
    "start_time": "2023-07-20T18:18:35.573Z"
   },
   {
    "duration": 90,
    "start_time": "2023-07-20T18:19:33.963Z"
   },
   {
    "duration": 1190,
    "start_time": "2023-07-20T18:20:30.140Z"
   },
   {
    "duration": 79,
    "start_time": "2023-07-20T18:20:31.333Z"
   },
   {
    "duration": 33,
    "start_time": "2023-07-20T18:20:31.414Z"
   },
   {
    "duration": 32,
    "start_time": "2023-07-20T18:20:31.450Z"
   },
   {
    "duration": 59,
    "start_time": "2023-07-20T18:20:31.484Z"
   },
   {
    "duration": 47,
    "start_time": "2023-07-20T18:20:31.545Z"
   },
   {
    "duration": 49,
    "start_time": "2023-07-20T18:20:31.594Z"
   },
   {
    "duration": 43,
    "start_time": "2023-07-20T18:20:31.646Z"
   },
   {
    "duration": 7,
    "start_time": "2023-07-20T18:20:33.193Z"
   },
   {
    "duration": 14,
    "start_time": "2023-07-20T18:20:33.756Z"
   },
   {
    "duration": 21,
    "start_time": "2023-07-20T18:20:34.960Z"
   },
   {
    "duration": 9,
    "start_time": "2023-07-20T18:20:35.159Z"
   },
   {
    "duration": 571,
    "start_time": "2023-07-20T18:20:37.354Z"
   },
   {
    "duration": 233,
    "start_time": "2023-07-20T18:20:40.817Z"
   },
   {
    "duration": 226,
    "start_time": "2023-07-20T18:20:48.584Z"
   },
   {
    "duration": 717,
    "start_time": "2023-07-20T18:20:59.521Z"
   },
   {
    "duration": 697,
    "start_time": "2023-07-20T18:21:06.558Z"
   },
   {
    "duration": 547,
    "start_time": "2023-07-20T18:21:18.926Z"
   },
   {
    "duration": 488,
    "start_time": "2023-07-20T18:21:22.071Z"
   },
   {
    "duration": 235,
    "start_time": "2023-07-20T18:21:28.104Z"
   },
   {
    "duration": 399,
    "start_time": "2023-07-20T18:21:30.012Z"
   },
   {
    "duration": 245,
    "start_time": "2023-07-20T18:21:31.887Z"
   },
   {
    "duration": 277,
    "start_time": "2023-07-20T18:21:32.459Z"
   },
   {
    "duration": 385,
    "start_time": "2023-07-20T18:21:33.460Z"
   },
   {
    "duration": 160,
    "start_time": "2023-07-20T18:21:34.507Z"
   },
   {
    "duration": 7,
    "start_time": "2023-07-20T18:21:35.204Z"
   },
   {
    "duration": 164,
    "start_time": "2023-07-20T18:21:35.962Z"
   },
   {
    "duration": 7,
    "start_time": "2023-07-20T18:21:36.880Z"
   },
   {
    "duration": 603,
    "start_time": "2023-07-20T18:21:38.360Z"
   },
   {
    "duration": 13,
    "start_time": "2023-07-20T18:21:40.124Z"
   },
   {
    "duration": 14,
    "start_time": "2023-07-20T18:21:41.439Z"
   },
   {
    "duration": 31,
    "start_time": "2023-07-20T18:21:42.679Z"
   },
   {
    "duration": 21,
    "start_time": "2023-07-20T18:21:44.054Z"
   },
   {
    "duration": 558,
    "start_time": "2023-07-20T18:22:41.591Z"
   },
   {
    "duration": 503,
    "start_time": "2023-07-20T18:22:46.241Z"
   },
   {
    "duration": 486,
    "start_time": "2023-07-20T18:22:52.925Z"
   },
   {
    "duration": 521,
    "start_time": "2023-07-20T18:22:56.539Z"
   },
   {
    "duration": 246,
    "start_time": "2023-07-20T18:23:08.554Z"
   },
   {
    "duration": 688,
    "start_time": "2023-07-20T18:23:24.714Z"
   },
   {
    "duration": 1319,
    "start_time": "2023-07-20T18:23:53.157Z"
   },
   {
    "duration": 97,
    "start_time": "2023-07-20T18:23:54.478Z"
   },
   {
    "duration": 40,
    "start_time": "2023-07-20T18:23:54.577Z"
   },
   {
    "duration": 25,
    "start_time": "2023-07-20T18:23:54.620Z"
   },
   {
    "duration": 50,
    "start_time": "2023-07-20T18:23:54.647Z"
   },
   {
    "duration": 67,
    "start_time": "2023-07-20T18:23:54.699Z"
   },
   {
    "duration": 20,
    "start_time": "2023-07-20T18:23:54.769Z"
   },
   {
    "duration": 19,
    "start_time": "2023-07-20T18:23:54.791Z"
   },
   {
    "duration": 6,
    "start_time": "2023-07-20T18:23:56.270Z"
   },
   {
    "duration": 13,
    "start_time": "2023-07-20T18:23:56.395Z"
   },
   {
    "duration": 33,
    "start_time": "2023-07-20T18:23:57.826Z"
   },
   {
    "duration": 11,
    "start_time": "2023-07-20T18:23:57.973Z"
   },
   {
    "duration": 619,
    "start_time": "2023-07-20T18:23:59.279Z"
   },
   {
    "duration": 320,
    "start_time": "2023-07-20T18:24:02.592Z"
   },
   {
    "duration": 414,
    "start_time": "2023-07-20T18:24:03.120Z"
   },
   {
    "duration": 344,
    "start_time": "2023-07-20T18:24:03.696Z"
   },
   {
    "duration": 267,
    "start_time": "2023-07-20T18:24:04.310Z"
   },
   {
    "duration": 471,
    "start_time": "2023-07-20T18:24:05.001Z"
   },
   {
    "duration": 150,
    "start_time": "2023-07-20T18:24:05.952Z"
   },
   {
    "duration": 5,
    "start_time": "2023-07-20T18:24:06.661Z"
   },
   {
    "duration": 175,
    "start_time": "2023-07-20T18:24:07.303Z"
   },
   {
    "duration": 4,
    "start_time": "2023-07-20T18:24:07.995Z"
   },
   {
    "duration": 694,
    "start_time": "2023-07-20T18:24:09.330Z"
   },
   {
    "duration": 12,
    "start_time": "2023-07-20T18:24:10.559Z"
   },
   {
    "duration": 15,
    "start_time": "2023-07-20T18:24:12.048Z"
   },
   {
    "duration": 43,
    "start_time": "2023-07-20T18:24:13.060Z"
   },
   {
    "duration": 21,
    "start_time": "2023-07-20T18:24:14.200Z"
   },
   {
    "duration": 499,
    "start_time": "2023-07-20T18:24:32.944Z"
   },
   {
    "duration": 536,
    "start_time": "2023-07-20T18:24:41.986Z"
   },
   {
    "duration": 506,
    "start_time": "2023-07-20T18:24:50.796Z"
   },
   {
    "duration": 655,
    "start_time": "2023-07-20T18:24:54.394Z"
   },
   {
    "duration": 543,
    "start_time": "2023-07-20T18:25:09.228Z"
   },
   {
    "duration": 620,
    "start_time": "2023-07-20T18:25:15.020Z"
   },
   {
    "duration": 490,
    "start_time": "2023-07-20T18:25:21.067Z"
   },
   {
    "duration": 471,
    "start_time": "2023-07-20T18:25:26.644Z"
   },
   {
    "duration": 516,
    "start_time": "2023-07-20T18:25:31.642Z"
   },
   {
    "duration": 236,
    "start_time": "2023-07-20T18:25:38.238Z"
   },
   {
    "duration": 522,
    "start_time": "2023-07-20T18:25:43.722Z"
   },
   {
    "duration": 526,
    "start_time": "2023-07-20T18:25:47.317Z"
   },
   {
    "duration": 523,
    "start_time": "2023-07-20T18:25:54.263Z"
   },
   {
    "duration": 608,
    "start_time": "2023-07-20T18:26:06.009Z"
   },
   {
    "duration": 335,
    "start_time": "2023-07-20T18:26:13.269Z"
   },
   {
    "duration": 237,
    "start_time": "2023-07-20T18:26:17.970Z"
   },
   {
    "duration": 203,
    "start_time": "2023-07-20T18:26:22.036Z"
   },
   {
    "duration": 441,
    "start_time": "2023-07-20T18:26:32.381Z"
   },
   {
    "duration": 1398,
    "start_time": "2024-04-20T09:47:52.544Z"
   },
   {
    "duration": 216,
    "start_time": "2024-04-20T09:47:53.944Z"
   },
   {
    "duration": 22,
    "start_time": "2024-04-20T09:47:54.162Z"
   },
   {
    "duration": 67,
    "start_time": "2024-04-20T09:47:54.186Z"
   },
   {
    "duration": 71,
    "start_time": "2024-04-20T09:47:54.256Z"
   },
   {
    "duration": 29,
    "start_time": "2024-04-20T09:47:54.328Z"
   },
   {
    "duration": 25,
    "start_time": "2024-04-20T09:47:54.358Z"
   },
   {
    "duration": 39,
    "start_time": "2024-04-20T09:47:54.385Z"
   },
   {
    "duration": 11,
    "start_time": "2024-04-20T09:47:54.426Z"
   },
   {
    "duration": 23,
    "start_time": "2024-04-20T09:47:54.438Z"
   },
   {
    "duration": 51,
    "start_time": "2024-04-20T09:47:54.462Z"
   },
   {
    "duration": 29,
    "start_time": "2024-04-20T09:47:54.514Z"
   },
   {
    "duration": 592,
    "start_time": "2024-04-20T09:47:54.545Z"
   },
   {
    "duration": 194,
    "start_time": "2024-04-20T09:47:55.139Z"
   },
   {
    "duration": 392,
    "start_time": "2024-04-20T09:47:55.334Z"
   },
   {
    "duration": 223,
    "start_time": "2024-04-20T09:47:55.728Z"
   },
   {
    "duration": 200,
    "start_time": "2024-04-20T09:47:55.953Z"
   },
   {
    "duration": 309,
    "start_time": "2024-04-20T09:47:56.155Z"
   },
   {
    "duration": 142,
    "start_time": "2024-04-20T09:47:56.465Z"
   },
   {
    "duration": 6,
    "start_time": "2024-04-20T09:47:56.614Z"
   },
   {
    "duration": 215,
    "start_time": "2024-04-20T09:47:56.622Z"
   },
   {
    "duration": 4,
    "start_time": "2024-04-20T09:47:56.839Z"
   },
   {
    "duration": 585,
    "start_time": "2024-04-20T09:47:56.844Z"
   },
   {
    "duration": 11,
    "start_time": "2024-04-20T09:47:57.431Z"
   },
   {
    "duration": 25,
    "start_time": "2024-04-20T09:47:57.443Z"
   },
   {
    "duration": 58,
    "start_time": "2024-04-20T09:47:57.469Z"
   },
   {
    "duration": 11,
    "start_time": "2024-04-20T09:47:57.529Z"
   },
   {
    "duration": 12,
    "start_time": "2024-04-20T09:48:40.514Z"
   },
   {
    "duration": 11,
    "start_time": "2024-04-20T09:49:01.434Z"
   },
   {
    "duration": 1159,
    "start_time": "2024-04-20T09:49:16.932Z"
   },
   {
    "duration": 79,
    "start_time": "2024-04-20T09:49:18.093Z"
   },
   {
    "duration": 34,
    "start_time": "2024-04-20T09:49:18.173Z"
   },
   {
    "duration": 21,
    "start_time": "2024-04-20T09:49:18.210Z"
   },
   {
    "duration": 17,
    "start_time": "2024-04-20T09:49:18.234Z"
   },
   {
    "duration": 28,
    "start_time": "2024-04-20T09:49:18.252Z"
   },
   {
    "duration": 20,
    "start_time": "2024-04-20T09:49:18.281Z"
   },
   {
    "duration": 14,
    "start_time": "2024-04-20T09:49:18.302Z"
   },
   {
    "duration": 8,
    "start_time": "2024-04-20T09:49:18.319Z"
   },
   {
    "duration": 20,
    "start_time": "2024-04-20T09:49:18.328Z"
   },
   {
    "duration": 14,
    "start_time": "2024-04-20T09:49:18.349Z"
   },
   {
    "duration": 48,
    "start_time": "2024-04-20T09:49:18.365Z"
   },
   {
    "duration": 606,
    "start_time": "2024-04-20T09:49:18.420Z"
   },
   {
    "duration": 209,
    "start_time": "2024-04-20T09:49:19.030Z"
   },
   {
    "duration": 294,
    "start_time": "2024-04-20T09:49:19.240Z"
   },
   {
    "duration": 215,
    "start_time": "2024-04-20T09:49:19.535Z"
   },
   {
    "duration": 199,
    "start_time": "2024-04-20T09:49:19.752Z"
   },
   {
    "duration": 326,
    "start_time": "2024-04-20T09:49:19.952Z"
   },
   {
    "duration": 144,
    "start_time": "2024-04-20T09:49:20.279Z"
   },
   {
    "duration": 4,
    "start_time": "2024-04-20T09:49:20.425Z"
   },
   {
    "duration": 167,
    "start_time": "2024-04-20T09:49:20.430Z"
   },
   {
    "duration": 6,
    "start_time": "2024-04-20T09:49:20.605Z"
   },
   {
    "duration": 560,
    "start_time": "2024-04-20T09:49:20.613Z"
   },
   {
    "duration": 9,
    "start_time": "2024-04-20T09:49:21.174Z"
   },
   {
    "duration": 50,
    "start_time": "2024-04-20T09:49:21.185Z"
   },
   {
    "duration": 60,
    "start_time": "2024-04-20T09:49:21.237Z"
   },
   {
    "duration": 18,
    "start_time": "2024-04-20T09:49:21.308Z"
   }
  ],
  "kernelspec": {
   "display_name": "Python 3 (ipykernel)",
   "language": "python",
   "name": "python3"
  },
  "language_info": {
   "codemirror_mode": {
    "name": "ipython",
    "version": 3
   },
   "file_extension": ".py",
   "mimetype": "text/x-python",
   "name": "python",
   "nbconvert_exporter": "python",
   "pygments_lexer": "ipython3",
   "version": "3.9.5"
  },
  "toc": {
   "base_numbering": 1,
   "nav_menu": {},
   "number_sections": true,
   "sideBar": true,
   "skip_h1_title": true,
   "title_cell": "Table of Contents",
   "title_sidebar": "Contents",
   "toc_cell": false,
   "toc_position": {},
   "toc_section_display": true,
   "toc_window_display": false
  }
 },
 "nbformat": 4,
 "nbformat_minor": 2
}
